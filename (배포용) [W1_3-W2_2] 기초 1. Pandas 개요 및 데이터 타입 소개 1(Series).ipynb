{
 "cells": [
  {
   "cell_type": "markdown",
   "metadata": {},
   "source": [
    "# Series (시리즈)의 개념\n",
    "<img src=\"img/1강/Series개념.jpg\" alt=\"datetime\" style=\"width: 1200px;\"/>"
   ]
  },
  {
   "cell_type": "markdown",
   "metadata": {},
   "source": [
    "# pandas 라이브러리 import 하기"
   ]
  },
  {
   "cell_type": "code",
   "execution_count": 2,
   "metadata": {},
   "outputs": [],
   "source": [
    "# Python의 리스트(List) 타입의 데이터 생성하기\n",
    "data = [3,5,1,2]"
   ]
  },
  {
   "cell_type": "code",
   "execution_count": 3,
   "metadata": {
    "scrolled": true
   },
   "outputs": [
    {
     "ename": "NameError",
     "evalue": "name 'pandas' is not defined",
     "output_type": "error",
     "traceback": [
      "\u001b[1;31m---------------------------------------------------------------------------\u001b[0m",
      "\u001b[1;31mNameError\u001b[0m                                 Traceback (most recent call last)",
      "\u001b[1;32m<ipython-input-3-626379496ee1>\u001b[0m in \u001b[0;36m<module>\u001b[1;34m\u001b[0m\n\u001b[0;32m      1\u001b[0m \u001b[1;31m# Pandas의 Series 타입의 데이터 생성하기\u001b[0m\u001b[1;33m\u001b[0m\u001b[1;33m\u001b[0m\u001b[1;33m\u001b[0m\u001b[0m\n\u001b[1;32m----> 2\u001b[1;33m \u001b[0mpandas\u001b[0m\u001b[1;33m.\u001b[0m\u001b[0mSeries\u001b[0m\u001b[1;33m(\u001b[0m\u001b[0mdata\u001b[0m\u001b[1;33m)\u001b[0m \u001b[1;31m# 오류. pandas라는 라이브러리를 import 해야 함\u001b[0m\u001b[1;33m\u001b[0m\u001b[1;33m\u001b[0m\u001b[0m\n\u001b[0m",
      "\u001b[1;31mNameError\u001b[0m: name 'pandas' is not defined"
     ]
    }
   ],
   "source": [
    "# Pandas의 Series 타입의 데이터 생성하기\n",
    "pandas.Series(data) # 오류. pandas라는 라이브러리를 import 해야 함"
   ]
  },
  {
   "cell_type": "code",
   "execution_count": 4,
   "metadata": {},
   "outputs": [
    {
     "data": {
      "text/plain": [
       "0    3\n",
       "1    5\n",
       "2    1\n",
       "3    2\n",
       "dtype: int64"
      ]
     },
     "execution_count": 4,
     "metadata": {},
     "output_type": "execute_result"
    }
   ],
   "source": [
    "# pandas 라이브러리 임포트하기 (1)\n",
    "import pandas\n",
    "pandas.Series([3,5,1,2])"
   ]
  },
  {
   "cell_type": "code",
   "execution_count": 5,
   "metadata": {},
   "outputs": [
    {
     "data": {
      "text/plain": [
       "0    3\n",
       "1    5\n",
       "2    1\n",
       "3    2\n",
       "dtype: int64"
      ]
     },
     "execution_count": 5,
     "metadata": {},
     "output_type": "execute_result"
    }
   ],
   "source": [
    "# pandas 라이브러리 임포트하기 (2)\n",
    "import pandas as pd\n",
    "pd.Series([3,5,1,2])"
   ]
  },
  {
   "cell_type": "code",
   "execution_count": 3,
   "metadata": {},
   "outputs": [
    {
     "data": {
      "text/plain": [
       "0    3\n",
       "1    5\n",
       "2    1\n",
       "3    2\n",
       "dtype: int64"
      ]
     },
     "execution_count": 3,
     "metadata": {},
     "output_type": "execute_result"
    }
   ],
   "source": [
    "# pandas 라이브러리 임포트하기 (3)\n",
    "from pandas import Series\n",
    "Series([3,5,1,2])"
   ]
  },
  {
   "cell_type": "markdown",
   "metadata": {},
   "source": [
    "#  Series 생성\n",
    " - 1차원 데이터를 저장하는 파이썬의 데이터타입인 리스트, 튜플, 사전 타입 등을 이용해서 Series 객체를 생성해 보고, Series 객체의 특징들을 살펴보도록 하겠습니다. "
   ]
  },
  {
   "cell_type": "markdown",
   "metadata": {},
   "source": [
    "### 1) List를 사용하여 Series 생성하기"
   ]
  },
  {
   "cell_type": "code",
   "execution_count": 7,
   "metadata": {
    "scrolled": false
   },
   "outputs": [
    {
     "data": {
      "text/plain": [
       "0    3\n",
       "1    5\n",
       "2    1\n",
       "3    2\n",
       "dtype: int64"
      ]
     },
     "execution_count": 7,
     "metadata": {},
     "output_type": "execute_result"
    }
   ],
   "source": [
    "arr = [3,5,1,2] # 파이썬의 리스트 타입 변수\n",
    "data1 = Series(arr)\n",
    "data1"
   ]
  },
  {
   "cell_type": "code",
   "execution_count": 8,
   "metadata": {},
   "outputs": [
    {
     "data": {
      "text/plain": [
       "a    3\n",
       "b    5\n",
       "c    1\n",
       "d    2\n",
       "dtype: int64"
      ]
     },
     "execution_count": 8,
     "metadata": {},
     "output_type": "execute_result"
    }
   ],
   "source": [
    "data1.index = ['a','b','c','d']\n",
    "data1"
   ]
  },
  {
   "cell_type": "code",
   "execution_count": 9,
   "metadata": {},
   "outputs": [
    {
     "data": {
      "text/plain": [
       "a    3\n",
       "b    5\n",
       "c    1\n",
       "d    2\n",
       "dtype: int64"
      ]
     },
     "execution_count": 9,
     "metadata": {},
     "output_type": "execute_result"
    }
   ],
   "source": [
    "# data1 = Series([3,5,1,2], ['a','b','c','d'])\n",
    "data1 = Series(data = [3,5,1,2], index = ['a','b','c','d'])\n",
    "data1"
   ]
  },
  {
   "cell_type": "code",
   "execution_count": 10,
   "metadata": {},
   "outputs": [
    {
     "ename": "ValueError",
     "evalue": "Length of passed values is 4, index implies 3.",
     "output_type": "error",
     "traceback": [
      "\u001b[1;31m---------------------------------------------------------------------------\u001b[0m",
      "\u001b[1;31mValueError\u001b[0m                                Traceback (most recent call last)",
      "\u001b[1;32m<ipython-input-10-3f17d07aad17>\u001b[0m in \u001b[0;36m<module>\u001b[1;34m\u001b[0m\n\u001b[0;32m      1\u001b[0m \u001b[1;31m# data와 index의 길이가 맞지 않으면 에러 발생\u001b[0m\u001b[1;33m\u001b[0m\u001b[1;33m\u001b[0m\u001b[1;33m\u001b[0m\u001b[0m\n\u001b[1;32m----> 2\u001b[1;33m \u001b[0mdata1\u001b[0m \u001b[1;33m=\u001b[0m \u001b[0mSeries\u001b[0m\u001b[1;33m(\u001b[0m\u001b[0mdata\u001b[0m \u001b[1;33m=\u001b[0m \u001b[1;33m[\u001b[0m\u001b[1;36m3\u001b[0m\u001b[1;33m,\u001b[0m\u001b[1;36m5\u001b[0m\u001b[1;33m,\u001b[0m\u001b[1;36m1\u001b[0m\u001b[1;33m,\u001b[0m\u001b[1;36m2\u001b[0m\u001b[1;33m]\u001b[0m\u001b[1;33m,\u001b[0m \u001b[0mindex\u001b[0m \u001b[1;33m=\u001b[0m \u001b[1;33m[\u001b[0m\u001b[1;34m'a'\u001b[0m\u001b[1;33m,\u001b[0m\u001b[1;34m'b'\u001b[0m\u001b[1;33m,\u001b[0m\u001b[1;34m'c'\u001b[0m\u001b[1;33m]\u001b[0m\u001b[1;33m)\u001b[0m\u001b[1;33m\u001b[0m\u001b[1;33m\u001b[0m\u001b[0m\n\u001b[0m",
      "\u001b[1;32mC:\\anaconda3\\lib\\site-packages\\pandas\\core\\series.py\u001b[0m in \u001b[0;36m__init__\u001b[1;34m(self, data, index, dtype, name, copy, fastpath)\u001b[0m\n\u001b[0;32m    348\u001b[0m                 \u001b[1;32mtry\u001b[0m\u001b[1;33m:\u001b[0m\u001b[1;33m\u001b[0m\u001b[1;33m\u001b[0m\u001b[0m\n\u001b[0;32m    349\u001b[0m                     \u001b[1;32mif\u001b[0m \u001b[0mlen\u001b[0m\u001b[1;33m(\u001b[0m\u001b[0mindex\u001b[0m\u001b[1;33m)\u001b[0m \u001b[1;33m!=\u001b[0m \u001b[0mlen\u001b[0m\u001b[1;33m(\u001b[0m\u001b[0mdata\u001b[0m\u001b[1;33m)\u001b[0m\u001b[1;33m:\u001b[0m\u001b[1;33m\u001b[0m\u001b[1;33m\u001b[0m\u001b[0m\n\u001b[1;32m--> 350\u001b[1;33m                         raise ValueError(\n\u001b[0m\u001b[0;32m    351\u001b[0m                             \u001b[1;34mf\"Length of passed values is {len(data)}, \"\u001b[0m\u001b[1;33m\u001b[0m\u001b[1;33m\u001b[0m\u001b[0m\n\u001b[0;32m    352\u001b[0m                             \u001b[1;34mf\"index implies {len(index)}.\"\u001b[0m\u001b[1;33m\u001b[0m\u001b[1;33m\u001b[0m\u001b[0m\n",
      "\u001b[1;31mValueError\u001b[0m: Length of passed values is 4, index implies 3."
     ]
    }
   ],
   "source": [
    "# data와 index의 길이가 맞지 않으면 에러 발생\n",
    "data1 = Series(data = [3,5,1,2], index = ['a','b','c'])"
   ]
  },
  {
   "cell_type": "markdown",
   "metadata": {},
   "source": [
    "### 2) Tuple을 사용하여 Series 생성하기"
   ]
  },
  {
   "cell_type": "code",
   "execution_count": 11,
   "metadata": {},
   "outputs": [
    {
     "data": {
      "text/plain": [
       "0    3\n",
       "1    5\n",
       "2    1\n",
       "3    2\n",
       "dtype: int64"
      ]
     },
     "execution_count": 11,
     "metadata": {},
     "output_type": "execute_result"
    }
   ],
   "source": [
    "arr2 = (3,5,1,2) # 튜플 타입의 데이터 생성\n",
    "data2 = Series(arr2)\n",
    "data2"
   ]
  },
  {
   "cell_type": "markdown",
   "metadata": {},
   "source": [
    "### 3) Dict 타입의 변수를 사용하여 Series 생성하기"
   ]
  },
  {
   "cell_type": "code",
   "execution_count": 4,
   "metadata": {},
   "outputs": [
    {
     "data": {
      "text/plain": [
       "a    3\n",
       "b    5\n",
       "c    1\n",
       "d    2\n",
       "dtype: int64"
      ]
     },
     "execution_count": 4,
     "metadata": {},
     "output_type": "execute_result"
    }
   ],
   "source": [
    "arr3 = {\n",
    "    'a': 3,\n",
    "    'b': 5,\n",
    "    'c': 1,\n",
    "    'd': 2\n",
    "} # Dict(사전) 타입의 데이터 생성\n",
    "data3 = Series(arr3)\n",
    "data3"
   ]
  },
  {
   "cell_type": "markdown",
   "metadata": {},
   "source": [
    "### ** 몇 가지 Series 특징들 **"
   ]
  },
  {
   "cell_type": "markdown",
   "metadata": {},
   "source": [
    "- Series.values는 numpy의 ndarray객체입니다. "
   ]
  },
  {
   "cell_type": "code",
   "execution_count": 6,
   "metadata": {},
   "outputs": [
    {
     "data": {
      "text/plain": [
       "numpy.ndarray"
      ]
     },
     "execution_count": 6,
     "metadata": {},
     "output_type": "execute_result"
    }
   ],
   "source": [
    "type(data3.values)"
   ]
  },
  {
   "cell_type": "markdown",
   "metadata": {},
   "source": [
    "- 값에는 모든 데이터 타입 사용이 가능합니다. "
   ]
  },
  {
   "cell_type": "code",
   "execution_count": 14,
   "metadata": {},
   "outputs": [
    {
     "data": {
      "text/plain": [
       "0                             big data\n",
       "1                                   10\n",
       "2                                  3.5\n",
       "3                            [1, 2, 3]\n",
       "4                     {'a': 5, 'b': 3}\n",
       "5    0    1\n",
       "1    2\n",
       "2    3\n",
       "dtype: int64\n",
       "dtype: object"
      ]
     },
     "execution_count": 14,
     "metadata": {},
     "output_type": "execute_result"
    }
   ],
   "source": [
    "Series(['big data', 10, 3.5, [1,2,3], {'a':5, 'b':3}, Series([1,2,3])])"
   ]
  },
  {
   "cell_type": "markdown",
   "metadata": {},
   "source": [
    "# Series의 속성(Attributes)와 함수(Method)들"
   ]
  },
  {
   "cell_type": "markdown",
   "metadata": {},
   "source": [
    "#### 샘플 데이터 생성\n",
    " 값과 Index 인자를 사용하여, Series 생성"
   ]
  },
  {
   "cell_type": "code",
   "execution_count": 7,
   "metadata": {
    "scrolled": true
   },
   "outputs": [
    {
     "data": {
      "text/plain": [
       "a     85\n",
       "b     90\n",
       "c     75\n",
       "d     55\n",
       "e     45\n",
       "f     90\n",
       "g     95\n",
       "h     85\n",
       "i     90\n",
       "j    100\n",
       "dtype: int64"
      ]
     },
     "execution_count": 7,
     "metadata": {},
     "output_type": "execute_result"
    }
   ],
   "source": [
    "sample = Series([85, 90, 75, 55, 45, 90, 95, 85, 90, 100], \n",
    "               index = ['a','b','c','d','e','f','g','h','i','j'])\n",
    "sample"
   ]
  },
  {
   "cell_type": "markdown",
   "metadata": {},
   "source": [
    "### 속성(Attribute) = Series가 가지고 있는 객체, 속성(특징) 혹은 간단한 기능을 제공"
   ]
  },
  {
   "cell_type": "markdown",
   "metadata": {},
   "source": [
    "1) index - Series의 인덱스 (혹은 인덱스 라벨)"
   ]
  },
  {
   "cell_type": "code",
   "execution_count": 16,
   "metadata": {},
   "outputs": [
    {
     "data": {
      "text/plain": [
       "Index(['a', 'b', 'c', 'd', 'e', 'f', 'g', 'h', 'i', 'j'], dtype='object')"
      ]
     },
     "execution_count": 16,
     "metadata": {},
     "output_type": "execute_result"
    }
   ],
   "source": [
    "sample.index"
   ]
  },
  {
   "cell_type": "markdown",
   "metadata": {},
   "source": [
    "2) values - Series의 데이터"
   ]
  },
  {
   "cell_type": "code",
   "execution_count": 17,
   "metadata": {},
   "outputs": [
    {
     "data": {
      "text/plain": [
       "array([ 85,  90,  75,  55,  45,  90,  95,  85,  90, 100], dtype=int64)"
      ]
     },
     "execution_count": 17,
     "metadata": {},
     "output_type": "execute_result"
    }
   ],
   "source": [
    "sample.values"
   ]
  },
  {
   "cell_type": "markdown",
   "metadata": {},
   "source": [
    "3) size - Series의 크기 (데이터의 길이)"
   ]
  },
  {
   "cell_type": "code",
   "execution_count": 18,
   "metadata": {},
   "outputs": [
    {
     "data": {
      "text/plain": [
       "10"
      ]
     },
     "execution_count": 18,
     "metadata": {},
     "output_type": "execute_result"
    }
   ],
   "source": [
    "sample.size"
   ]
  },
  {
   "cell_type": "markdown",
   "metadata": {},
   "source": [
    "4) dtype - Series의 데이터(Series.values)의 데이터 타입\n",
    "* 정수형 숫자: int64\n",
    "* 실수형 숫자: float64\n",
    "* 문자열이거나 2개 이상의 데이터 타입으로 이루어진 경우: 'O' (Object)"
   ]
  },
  {
   "cell_type": "code",
   "execution_count": 19,
   "metadata": {},
   "outputs": [
    {
     "data": {
      "text/plain": [
       "dtype('int64')"
      ]
     },
     "execution_count": 19,
     "metadata": {},
     "output_type": "execute_result"
    }
   ],
   "source": [
    "sample.dtype"
   ]
  },
  {
   "cell_type": "code",
   "execution_count": 20,
   "metadata": {},
   "outputs": [
    {
     "data": {
      "text/plain": [
       "0    a\n",
       "1    c\n",
       "dtype: object"
      ]
     },
     "execution_count": 20,
     "metadata": {},
     "output_type": "execute_result"
    }
   ],
   "source": [
    "Series(['a','c']) # dtype('O') = Object (문자열이거나 2개 이상의 데이터타입)"
   ]
  },
  {
   "cell_type": "code",
   "execution_count": 21,
   "metadata": {},
   "outputs": [
    {
     "data": {
      "text/plain": [
       "0      3\n",
       "1    5.3\n",
       "2    abc\n",
       "dtype: object"
      ]
     },
     "execution_count": 21,
     "metadata": {},
     "output_type": "execute_result"
    }
   ],
   "source": [
    "Series([3,5.3,'abc'])"
   ]
  },
  {
   "cell_type": "code",
   "execution_count": 22,
   "metadata": {},
   "outputs": [
    {
     "data": {
      "text/plain": [
       "0    3.0\n",
       "1    5.3\n",
       "dtype: float64"
      ]
     },
     "execution_count": 22,
     "metadata": {},
     "output_type": "execute_result"
    }
   ],
   "source": [
    "Series([3,5.3])"
   ]
  },
  {
   "cell_type": "markdown",
   "metadata": {},
   "source": [
    "### 함수(Methods) - Series가 제공하는 다양한 기능 활용\n",
    "* 함수 호출 시 전달되는 자료들을 인자(argument, parameter)라고 합니다.\n",
    "* 각 함수들은 정해진 인자들이 있으며, 인자값들을 토대로 함수가 실행됩니다. \n",
    "* 동일한 함수라고 하더라도 인자값을 어떻게 설정하느냐에 따라 동작방식은 달라질 수 있습니다. \n",
    "\n"
   ]
  },
  {
   "cell_type": "markdown",
   "metadata": {},
   "source": [
    "속성과 함수의 차이\n",
    "속성: 뒷 부분이 공백\n",
    "함수: 뒷 부분에 괄호"
   ]
  },
  {
   "cell_type": "markdown",
   "metadata": {},
   "source": [
    "1) describe() - 통계 정보를 한 눈에 제공해주는 함수"
   ]
  },
  {
   "cell_type": "code",
   "execution_count": 23,
   "metadata": {},
   "outputs": [
    {
     "data": {
      "text/plain": [
       "count     10.000000\n",
       "mean      81.000000\n",
       "std       17.763883\n",
       "min       45.000000\n",
       "25%       77.500000\n",
       "50%       87.500000\n",
       "75%       90.000000\n",
       "max      100.000000\n",
       "dtype: float64"
      ]
     },
     "execution_count": 23,
     "metadata": {},
     "output_type": "execute_result"
    }
   ],
   "source": [
    "sample.describe() # 데이터 탐색 시 사용"
   ]
  },
  {
   "cell_type": "markdown",
   "metadata": {},
   "source": [
    "2) 통계함수들 - max(), min(), avg(), ... "
   ]
  },
  {
   "cell_type": "code",
   "execution_count": 24,
   "metadata": {},
   "outputs": [
    {
     "data": {
      "text/plain": [
       "100"
      ]
     },
     "execution_count": 24,
     "metadata": {},
     "output_type": "execute_result"
    }
   ],
   "source": [
    "sample.max()"
   ]
  },
  {
   "cell_type": "code",
   "execution_count": 27,
   "metadata": {},
   "outputs": [
    {
     "data": {
      "text/plain": [
       "81.0"
      ]
     },
     "execution_count": 27,
     "metadata": {},
     "output_type": "execute_result"
    }
   ],
   "source": [
    "# sample.mean()\n",
    "sample.agg('mean')"
   ]
  },
  {
   "cell_type": "markdown",
   "metadata": {},
   "source": [
    "3) add_prefix(prefix) - 인덱스 라벨 앞에 prefix 문자열을 추가"
   ]
  },
  {
   "cell_type": "markdown",
   "metadata": {},
   "source": [
    "add_prefix(prefix)는 인자 1개가 필요한 함수\n",
    "함수마다 정의된 인자가 다르므로, 자세한 내용은 공식 문서 참고"
   ]
  },
  {
   "cell_type": "code",
   "execution_count": 30,
   "metadata": {},
   "outputs": [
    {
     "data": {
      "text/plain": [
       "big-a     85\n",
       "big-b     90\n",
       "big-c     75\n",
       "big-d     55\n",
       "big-e     45\n",
       "big-f     90\n",
       "big-g     95\n",
       "big-h     85\n",
       "big-i     90\n",
       "big-j    100\n",
       "dtype: int64"
      ]
     },
     "execution_count": 30,
     "metadata": {},
     "output_type": "execute_result"
    }
   ],
   "source": [
    "sample.add_prefix('big-') # 출력된 결과는 원본 데이터에 반영되지 않음"
   ]
  },
  {
   "cell_type": "markdown",
   "metadata": {},
   "source": [
    "결과를 원본에 반영하고 싶다면"
   ]
  },
  {
   "cell_type": "code",
   "execution_count": 33,
   "metadata": {},
   "outputs": [
    {
     "data": {
      "text/plain": [
       "big-a     85\n",
       "big-b     90\n",
       "big-c     75\n",
       "big-d     55\n",
       "big-e     45\n",
       "big-f     90\n",
       "big-g     95\n",
       "big-h     85\n",
       "big-i     90\n",
       "big-j    100\n",
       "dtype: int64"
      ]
     },
     "execution_count": 33,
     "metadata": {},
     "output_type": "execute_result"
    }
   ],
   "source": [
    "sample2 = sample.add_prefix(prefix = 'big-')\n",
    "sample2"
   ]
  },
  {
   "cell_type": "code",
   "execution_count": 31,
   "metadata": {},
   "outputs": [
    {
     "ename": "TypeError",
     "evalue": "add_prefix() missing 1 required positional argument: 'prefix'",
     "output_type": "error",
     "traceback": [
      "\u001b[1;31m---------------------------------------------------------------------------\u001b[0m",
      "\u001b[1;31mTypeError\u001b[0m                                 Traceback (most recent call last)",
      "\u001b[1;32m<ipython-input-31-bce77d0bb630>\u001b[0m in \u001b[0;36m<module>\u001b[1;34m\u001b[0m\n\u001b[1;32m----> 1\u001b[1;33m \u001b[0msample\u001b[0m\u001b[1;33m.\u001b[0m\u001b[0madd_prefix\u001b[0m\u001b[1;33m(\u001b[0m\u001b[1;33m)\u001b[0m\u001b[1;33m\u001b[0m\u001b[1;33m\u001b[0m\u001b[0m\n\u001b[0m",
      "\u001b[1;31mTypeError\u001b[0m: add_prefix() missing 1 required positional argument: 'prefix'"
     ]
    }
   ],
   "source": [
    "sample.add_prefix() # 함수 인자 관련 에러"
   ]
  },
  {
   "cell_type": "markdown",
   "metadata": {},
   "source": [
    "4) value_counts() - Series에 있는 데이터 값들의 개수"
   ]
  },
  {
   "cell_type": "code",
   "execution_count": 34,
   "metadata": {},
   "outputs": [
    {
     "data": {
      "text/plain": [
       "90     3\n",
       "85     2\n",
       "100    1\n",
       "55     1\n",
       "75     1\n",
       "45     1\n",
       "95     1\n",
       "dtype: int64"
      ]
     },
     "execution_count": 34,
     "metadata": {},
     "output_type": "execute_result"
    }
   ],
   "source": [
    "sample.value_counts()"
   ]
  },
  {
   "cell_type": "markdown",
   "metadata": {},
   "source": [
    "5) add(값) - Series의 데이터 각각에 값을 더하기"
   ]
  },
  {
   "cell_type": "markdown",
   "metadata": {},
   "source": [
    "add 함수의 인자값\n",
    "- other: Series 또는 Scalar 값\n",
    "- fill_value: None 또는 실수값, 기본은 None(NaN)\n",
    "- level: int 또는 name\n",
    "\n",
    "필요한 경우에는 이러한 인자값들도 지정해주어야 한다"
   ]
  },
  {
   "cell_type": "code",
   "execution_count": 35,
   "metadata": {},
   "outputs": [
    {
     "data": {
      "text/plain": [
       "a    185\n",
       "b    190\n",
       "c    175\n",
       "d    155\n",
       "e    145\n",
       "f    190\n",
       "g    195\n",
       "h    185\n",
       "i    190\n",
       "j    200\n",
       "dtype: int64"
      ]
     },
     "execution_count": 35,
     "metadata": {},
     "output_type": "execute_result"
    }
   ],
   "source": [
    "sample.add(100)"
   ]
  },
  {
   "cell_type": "markdown",
   "metadata": {},
   "source": [
    "\n",
    "<b>[Mini Quiz #1]</b> 앞에 5개의 데이터에는 5를 더하고, 나머지 5개의 데이터에는 10을 더하시오.\n"
   ]
  },
  {
   "cell_type": "code",
   "execution_count": 36,
   "metadata": {},
   "outputs": [
    {
     "data": {
      "text/plain": [
       "a     90\n",
       "b     95\n",
       "c     80\n",
       "d     60\n",
       "e     50\n",
       "f     95\n",
       "g    100\n",
       "h     90\n",
       "i     95\n",
       "j    105\n",
       "dtype: int64"
      ]
     },
     "execution_count": 36,
     "metadata": {},
     "output_type": "execute_result"
    }
   ],
   "source": [
    "sample.add(5)"
   ]
  },
  {
   "cell_type": "code",
   "execution_count": 38,
   "metadata": {},
   "outputs": [
    {
     "data": {
      "text/plain": [
       "a     90\n",
       "b     95\n",
       "c     80\n",
       "d     60\n",
       "e     50\n",
       "f    100\n",
       "g    105\n",
       "h     95\n",
       "i    100\n",
       "j    110\n",
       "dtype: int64"
      ]
     },
     "execution_count": 38,
     "metadata": {},
     "output_type": "execute_result"
    }
   ],
   "source": [
    "sample.add([5,5,5,5,5,10,10,10,10,10])\n",
    "# Series의 크기와 add로 보낸 인자의 리스트개수가 동일해야함"
   ]
  },
  {
   "cell_type": "markdown",
   "metadata": {},
   "source": [
    "6) append(series) - 인자로 받은 series를 기존 series 뒤에 이어붙여서 하나의 series로 만든다."
   ]
  },
  {
   "cell_type": "code",
   "execution_count": 42,
   "metadata": {},
   "outputs": [
    {
     "ename": "TypeError",
     "evalue": "Index(...) must be called with a collection of some kind, 'k' was passed",
     "output_type": "error",
     "traceback": [
      "\u001b[1;31m---------------------------------------------------------------------------\u001b[0m",
      "\u001b[1;31mTypeError\u001b[0m                                 Traceback (most recent call last)",
      "\u001b[1;32m<ipython-input-42-9aa1281aea60>\u001b[0m in \u001b[0;36m<module>\u001b[1;34m\u001b[0m\n\u001b[1;32m----> 1\u001b[1;33m \u001b[0msr\u001b[0m \u001b[1;33m=\u001b[0m \u001b[0mSeries\u001b[0m\u001b[1;33m(\u001b[0m\u001b[1;36m80\u001b[0m\u001b[1;33m,\u001b[0m \u001b[0mindex\u001b[0m \u001b[1;33m=\u001b[0m \u001b[1;34m'k'\u001b[0m\u001b[1;33m)\u001b[0m\u001b[1;33m\u001b[0m\u001b[1;33m\u001b[0m\u001b[0m\n\u001b[0m\u001b[0;32m      2\u001b[0m \u001b[1;31m# index 값이 일차원 배열 형태로 호출되어야 한다는 에러 발생\u001b[0m\u001b[1;33m\u001b[0m\u001b[1;33m\u001b[0m\u001b[1;33m\u001b[0m\u001b[0m\n",
      "\u001b[1;32mC:\\anaconda3\\lib\\site-packages\\pandas\\core\\series.py\u001b[0m in \u001b[0;36m__init__\u001b[1;34m(self, data, index, dtype, name, copy, fastpath)\u001b[0m\n\u001b[0;32m    279\u001b[0m \u001b[1;33m\u001b[0m\u001b[0m\n\u001b[0;32m    280\u001b[0m             \u001b[1;32mif\u001b[0m \u001b[0mindex\u001b[0m \u001b[1;32mis\u001b[0m \u001b[1;32mnot\u001b[0m \u001b[1;32mNone\u001b[0m\u001b[1;33m:\u001b[0m\u001b[1;33m\u001b[0m\u001b[1;33m\u001b[0m\u001b[0m\n\u001b[1;32m--> 281\u001b[1;33m                 \u001b[0mindex\u001b[0m \u001b[1;33m=\u001b[0m \u001b[0mensure_index\u001b[0m\u001b[1;33m(\u001b[0m\u001b[0mindex\u001b[0m\u001b[1;33m)\u001b[0m\u001b[1;33m\u001b[0m\u001b[1;33m\u001b[0m\u001b[0m\n\u001b[0m\u001b[0;32m    282\u001b[0m \u001b[1;33m\u001b[0m\u001b[0m\n\u001b[0;32m    283\u001b[0m             \u001b[1;32mif\u001b[0m \u001b[0mdata\u001b[0m \u001b[1;32mis\u001b[0m \u001b[1;32mNone\u001b[0m\u001b[1;33m:\u001b[0m\u001b[1;33m\u001b[0m\u001b[1;33m\u001b[0m\u001b[0m\n",
      "\u001b[1;32mC:\\anaconda3\\lib\\site-packages\\pandas\\core\\indexes\\base.py\u001b[0m in \u001b[0;36mensure_index\u001b[1;34m(index_like, copy)\u001b[0m\n\u001b[0;32m   5915\u001b[0m             \u001b[0mindex_like\u001b[0m \u001b[1;33m=\u001b[0m \u001b[0mcopy_func\u001b[0m\u001b[1;33m(\u001b[0m\u001b[0mindex_like\u001b[0m\u001b[1;33m)\u001b[0m\u001b[1;33m\u001b[0m\u001b[1;33m\u001b[0m\u001b[0m\n\u001b[0;32m   5916\u001b[0m \u001b[1;33m\u001b[0m\u001b[0m\n\u001b[1;32m-> 5917\u001b[1;33m     \u001b[1;32mreturn\u001b[0m \u001b[0mIndex\u001b[0m\u001b[1;33m(\u001b[0m\u001b[0mindex_like\u001b[0m\u001b[1;33m)\u001b[0m\u001b[1;33m\u001b[0m\u001b[1;33m\u001b[0m\u001b[0m\n\u001b[0m\u001b[0;32m   5918\u001b[0m \u001b[1;33m\u001b[0m\u001b[0m\n\u001b[0;32m   5919\u001b[0m \u001b[1;33m\u001b[0m\u001b[0m\n",
      "\u001b[1;32mC:\\anaconda3\\lib\\site-packages\\pandas\\core\\indexes\\base.py\u001b[0m in \u001b[0;36m__new__\u001b[1;34m(cls, data, dtype, copy, name, tupleize_cols, **kwargs)\u001b[0m\n\u001b[0;32m    370\u001b[0m \u001b[1;33m\u001b[0m\u001b[0m\n\u001b[0;32m    371\u001b[0m         \u001b[1;32melif\u001b[0m \u001b[0mdata\u001b[0m \u001b[1;32mis\u001b[0m \u001b[1;32mNone\u001b[0m \u001b[1;32mor\u001b[0m \u001b[0mis_scalar\u001b[0m\u001b[1;33m(\u001b[0m\u001b[0mdata\u001b[0m\u001b[1;33m)\u001b[0m\u001b[1;33m:\u001b[0m\u001b[1;33m\u001b[0m\u001b[1;33m\u001b[0m\u001b[0m\n\u001b[1;32m--> 372\u001b[1;33m             \u001b[1;32mraise\u001b[0m \u001b[0mcls\u001b[0m\u001b[1;33m.\u001b[0m\u001b[0m_scalar_data_error\u001b[0m\u001b[1;33m(\u001b[0m\u001b[0mdata\u001b[0m\u001b[1;33m)\u001b[0m\u001b[1;33m\u001b[0m\u001b[1;33m\u001b[0m\u001b[0m\n\u001b[0m\u001b[0;32m    373\u001b[0m         \u001b[1;32melif\u001b[0m \u001b[0mhasattr\u001b[0m\u001b[1;33m(\u001b[0m\u001b[0mdata\u001b[0m\u001b[1;33m,\u001b[0m \u001b[1;34m\"__array__\"\u001b[0m\u001b[1;33m)\u001b[0m\u001b[1;33m:\u001b[0m\u001b[1;33m\u001b[0m\u001b[1;33m\u001b[0m\u001b[0m\n\u001b[0;32m    374\u001b[0m             \u001b[1;32mreturn\u001b[0m \u001b[0mIndex\u001b[0m\u001b[1;33m(\u001b[0m\u001b[0mnp\u001b[0m\u001b[1;33m.\u001b[0m\u001b[0masarray\u001b[0m\u001b[1;33m(\u001b[0m\u001b[0mdata\u001b[0m\u001b[1;33m)\u001b[0m\u001b[1;33m,\u001b[0m \u001b[0mdtype\u001b[0m\u001b[1;33m=\u001b[0m\u001b[0mdtype\u001b[0m\u001b[1;33m,\u001b[0m \u001b[0mcopy\u001b[0m\u001b[1;33m=\u001b[0m\u001b[0mcopy\u001b[0m\u001b[1;33m,\u001b[0m \u001b[0mname\u001b[0m\u001b[1;33m=\u001b[0m\u001b[0mname\u001b[0m\u001b[1;33m,\u001b[0m \u001b[1;33m**\u001b[0m\u001b[0mkwargs\u001b[0m\u001b[1;33m)\u001b[0m\u001b[1;33m\u001b[0m\u001b[1;33m\u001b[0m\u001b[0m\n",
      "\u001b[1;31mTypeError\u001b[0m: Index(...) must be called with a collection of some kind, 'k' was passed"
     ]
    }
   ],
   "source": [
    "sr = Series(80, index = 'k')\n",
    "# index 값이 일차원 배열 형태로 호출되어야 한다는 에러 발생"
   ]
  },
  {
   "cell_type": "code",
   "execution_count": 40,
   "metadata": {},
   "outputs": [
    {
     "data": {
      "text/plain": [
       "k    80\n",
       "dtype: int64"
      ]
     },
     "execution_count": 40,
     "metadata": {},
     "output_type": "execute_result"
    }
   ],
   "source": [
    "sr = Series(80, index = ['k'])\n",
    "# index 값이 하나인 경우라도 list로 전달할 것\n",
    "sr"
   ]
  },
  {
   "cell_type": "code",
   "execution_count": 41,
   "metadata": {
    "scrolled": true
   },
   "outputs": [
    {
     "data": {
      "text/plain": [
       "a     85\n",
       "b     90\n",
       "c     75\n",
       "d     55\n",
       "e     45\n",
       "f     90\n",
       "g     95\n",
       "h     85\n",
       "i     90\n",
       "j    100\n",
       "k     80\n",
       "dtype: int64"
      ]
     },
     "execution_count": 41,
     "metadata": {},
     "output_type": "execute_result"
    }
   ],
   "source": [
    "sample.append(sr)"
   ]
  },
  {
   "cell_type": "markdown",
   "metadata": {},
   "source": [
    "7) isin(val_list) - Series에 있는 각각의 데이터들이 val_list에 포함되어 있는지 여부를 확인"
   ]
  },
  {
   "cell_type": "code",
   "execution_count": 44,
   "metadata": {},
   "outputs": [
    {
     "ename": "TypeError",
     "evalue": "only list-like objects are allowed to be passed to isin(), you passed a [int]",
     "output_type": "error",
     "traceback": [
      "\u001b[1;31m---------------------------------------------------------------------------\u001b[0m",
      "\u001b[1;31mTypeError\u001b[0m                                 Traceback (most recent call last)",
      "\u001b[1;32m<ipython-input-44-e12788549c64>\u001b[0m in \u001b[0;36m<module>\u001b[1;34m\u001b[0m\n\u001b[1;32m----> 1\u001b[1;33m \u001b[0msample\u001b[0m\u001b[1;33m.\u001b[0m\u001b[0misin\u001b[0m\u001b[1;33m(\u001b[0m\u001b[1;36m85\u001b[0m\u001b[1;33m)\u001b[0m\u001b[1;33m\u001b[0m\u001b[1;33m\u001b[0m\u001b[0m\n\u001b[0m\u001b[0;32m      2\u001b[0m \u001b[1;31m# isin에 호출되는 인자는 list형태만 가능\u001b[0m\u001b[1;33m\u001b[0m\u001b[1;33m\u001b[0m\u001b[1;33m\u001b[0m\u001b[0m\n",
      "\u001b[1;32mC:\\anaconda3\\lib\\site-packages\\pandas\\core\\series.py\u001b[0m in \u001b[0;36misin\u001b[1;34m(self, values)\u001b[0m\n\u001b[0;32m   4663\u001b[0m         \u001b[0mdtype\u001b[0m\u001b[1;33m:\u001b[0m \u001b[0mbool\u001b[0m\u001b[1;33m\u001b[0m\u001b[1;33m\u001b[0m\u001b[0m\n\u001b[0;32m   4664\u001b[0m         \"\"\"\n\u001b[1;32m-> 4665\u001b[1;33m         \u001b[0mresult\u001b[0m \u001b[1;33m=\u001b[0m \u001b[0malgorithms\u001b[0m\u001b[1;33m.\u001b[0m\u001b[0misin\u001b[0m\u001b[1;33m(\u001b[0m\u001b[0mself\u001b[0m\u001b[1;33m.\u001b[0m\u001b[0m_values\u001b[0m\u001b[1;33m,\u001b[0m \u001b[0mvalues\u001b[0m\u001b[1;33m)\u001b[0m\u001b[1;33m\u001b[0m\u001b[1;33m\u001b[0m\u001b[0m\n\u001b[0m\u001b[0;32m   4666\u001b[0m         return self._constructor(result, index=self.index).__finalize__(\n\u001b[0;32m   4667\u001b[0m             \u001b[0mself\u001b[0m\u001b[1;33m,\u001b[0m \u001b[0mmethod\u001b[0m\u001b[1;33m=\u001b[0m\u001b[1;34m\"isin\"\u001b[0m\u001b[1;33m\u001b[0m\u001b[1;33m\u001b[0m\u001b[0m\n",
      "\u001b[1;32mC:\\anaconda3\\lib\\site-packages\\pandas\\core\\algorithms.py\u001b[0m in \u001b[0;36misin\u001b[1;34m(comps, values)\u001b[0m\n\u001b[0;32m    433\u001b[0m         )\n\u001b[0;32m    434\u001b[0m     \u001b[1;32mif\u001b[0m \u001b[1;32mnot\u001b[0m \u001b[0mis_list_like\u001b[0m\u001b[1;33m(\u001b[0m\u001b[0mvalues\u001b[0m\u001b[1;33m)\u001b[0m\u001b[1;33m:\u001b[0m\u001b[1;33m\u001b[0m\u001b[1;33m\u001b[0m\u001b[0m\n\u001b[1;32m--> 435\u001b[1;33m         raise TypeError(\n\u001b[0m\u001b[0;32m    436\u001b[0m             \u001b[1;34m\"only list-like objects are allowed to be passed \"\u001b[0m\u001b[1;33m\u001b[0m\u001b[1;33m\u001b[0m\u001b[0m\n\u001b[0;32m    437\u001b[0m             \u001b[1;34mf\"to isin(), you passed a [{type(values).__name__}]\"\u001b[0m\u001b[1;33m\u001b[0m\u001b[1;33m\u001b[0m\u001b[0m\n",
      "\u001b[1;31mTypeError\u001b[0m: only list-like objects are allowed to be passed to isin(), you passed a [int]"
     ]
    }
   ],
   "source": [
    "sample.isin(85)\n",
    "# isin에 호출되는 인자는 list형태만 가능"
   ]
  },
  {
   "cell_type": "code",
   "execution_count": 45,
   "metadata": {},
   "outputs": [
    {
     "data": {
      "text/plain": [
       "a     True\n",
       "b    False\n",
       "c    False\n",
       "d    False\n",
       "e    False\n",
       "f    False\n",
       "g    False\n",
       "h     True\n",
       "i    False\n",
       "j    False\n",
       "dtype: bool"
      ]
     },
     "execution_count": 45,
     "metadata": {},
     "output_type": "execute_result"
    }
   ],
   "source": [
    "sample.isin([85])"
   ]
  },
  {
   "cell_type": "code",
   "execution_count": 46,
   "metadata": {},
   "outputs": [
    {
     "data": {
      "text/plain": [
       "a     True\n",
       "b     True\n",
       "c    False\n",
       "d    False\n",
       "e    False\n",
       "f     True\n",
       "g    False\n",
       "h     True\n",
       "i     True\n",
       "j    False\n",
       "dtype: bool"
      ]
     },
     "execution_count": 46,
     "metadata": {},
     "output_type": "execute_result"
    }
   ],
   "source": [
    "# data가 85, 90 에 포함여부 출력\n",
    "sample.isin([85,90])"
   ]
  },
  {
   "cell_type": "markdown",
   "metadata": {},
   "source": [
    "<b>[Mini Quiz #2]</b> sample 데이터 내에 80이 있는지 확인하여 있으면 True, 없으면 False를 출력"
   ]
  },
  {
   "cell_type": "code",
   "execution_count": 49,
   "metadata": {
    "scrolled": true
   },
   "outputs": [
    {
     "data": {
      "text/plain": [
       "True"
      ]
     },
     "execution_count": 49,
     "metadata": {},
     "output_type": "execute_result"
    }
   ],
   "source": [
    "80 in [70,80,90]\n",
    "# [70,80,90] 리스트에 80이 있는지 확인"
   ]
  },
  {
   "cell_type": "code",
   "execution_count": 50,
   "metadata": {},
   "outputs": [
    {
     "data": {
      "text/plain": [
       "False"
      ]
     },
     "execution_count": 50,
     "metadata": {},
     "output_type": "execute_result"
    }
   ],
   "source": [
    "80 in sample.values"
   ]
  },
  {
   "cell_type": "code",
   "execution_count": 51,
   "metadata": {},
   "outputs": [
    {
     "data": {
      "text/plain": [
       "True"
      ]
     },
     "execution_count": 51,
     "metadata": {},
     "output_type": "execute_result"
    }
   ],
   "source": [
    "85 in sample.values"
   ]
  },
  {
   "cell_type": "markdown",
   "metadata": {},
   "source": [
    "<b>[Mini Quiz #3]</b> sample의 인덱스 내에 'h'가 있는지 확인하여 있으면 True, 없으면 False를 출력"
   ]
  },
  {
   "cell_type": "code",
   "execution_count": 53,
   "metadata": {},
   "outputs": [
    {
     "data": {
      "text/plain": [
       "True"
      ]
     },
     "execution_count": 53,
     "metadata": {},
     "output_type": "execute_result"
    }
   ],
   "source": [
    "'h' in sample.index"
   ]
  },
  {
   "cell_type": "markdown",
   "metadata": {},
   "source": [
    "8) apply(<i>func</i>) - Series의 값에 <i>func</i> 함수를 적용"
   ]
  },
  {
   "cell_type": "code",
   "execution_count": 58,
   "metadata": {},
   "outputs": [],
   "source": [
    "# sample 데이터에서 값이 80이상이면 'Good', 아니면 'Bad'로 변환\n",
    "def get_grade(val):\n",
    "    if val >= 80:\n",
    "        return 'Good'\n",
    "    else:\n",
    "        return 'Bad'"
   ]
  },
  {
   "cell_type": "code",
   "execution_count": 59,
   "metadata": {},
   "outputs": [
    {
     "data": {
      "text/plain": [
       "a    Good\n",
       "b    Good\n",
       "c     Bad\n",
       "d     Bad\n",
       "e     Bad\n",
       "f    Good\n",
       "g    Good\n",
       "h    Good\n",
       "i    Good\n",
       "j    Good\n",
       "dtype: object"
      ]
     },
     "execution_count": 59,
     "metadata": {},
     "output_type": "execute_result"
    }
   ],
   "source": [
    "sample.apply(get_grade)"
   ]
  },
  {
   "cell_type": "markdown",
   "metadata": {},
   "source": [
    "## 익명함수"
   ]
  },
  {
   "cell_type": "markdown",
   "metadata": {},
   "source": [
    "- 람다(lambda) 함수라고도 함\n",
    "- 이름이 없는 함수\n",
    "- 함수를 재사용할 가능성이 굉장히 희박하거나 간단한 함수에 사용"
   ]
  },
  {
   "cell_type": "markdown",
   "metadata": {},
   "source": [
    "## 익명함수의 장점"
   ]
  },
  {
   "cell_type": "markdown",
   "metadata": {},
   "source": [
    "- 여러 줄의 코드가 필요한 일반함수에 비해 간결\n",
    "- 메모리의 공간 절약 가능"
   ]
  },
  {
   "cell_type": "code",
   "execution_count": 60,
   "metadata": {},
   "outputs": [
    {
     "data": {
      "text/plain": [
       "a    Good\n",
       "b    Good\n",
       "c     Bad\n",
       "d     Bad\n",
       "e     Bad\n",
       "f    Good\n",
       "g    Good\n",
       "h    Good\n",
       "i    Good\n",
       "j    Good\n",
       "dtype: object"
      ]
     },
     "execution_count": 60,
     "metadata": {},
     "output_type": "execute_result"
    }
   ],
   "source": [
    "# 익명함수(람다 함수) 활용\n",
    "sample.apply(lambda val: 'Good' if val >= 80 else 'Bad')"
   ]
  },
  {
   "cell_type": "markdown",
   "metadata": {},
   "source": [
    "- 람다 함수에서는 elif 구문 사용 불가\n",
    "- 대신 if ~ else (if ~ else ~ ) 처럼 사용"
   ]
  },
  {
   "cell_type": "markdown",
   "metadata": {},
   "source": [
    "## Series 인덱싱 - 원하는 데이터만 선택하기"
   ]
  },
  {
   "cell_type": "markdown",
   "metadata": {},
   "source": [
    "1) 특정 인덱스 선택하기\n",
    "- 숫자 인덱스와 인덱스 라벨 모두 가능"
   ]
  },
  {
   "cell_type": "code",
   "execution_count": 63,
   "metadata": {},
   "outputs": [
    {
     "data": {
      "text/plain": [
       "75"
      ]
     },
     "execution_count": 63,
     "metadata": {},
     "output_type": "execute_result"
    }
   ],
   "source": [
    "# 숫자 인덱스\n",
    "sample[2]"
   ]
  },
  {
   "cell_type": "code",
   "execution_count": 64,
   "metadata": {},
   "outputs": [
    {
     "data": {
      "text/plain": [
       "75"
      ]
     },
     "execution_count": 64,
     "metadata": {},
     "output_type": "execute_result"
    }
   ],
   "source": [
    "# 인덱스 라벨로 선택 가능\n",
    "sample['c']"
   ]
  },
  {
   "cell_type": "markdown",
   "metadata": {},
   "source": [
    "2) 여러 인덱스를 동시에 선택하기\n",
    "- 선택하고자 하는 인덱스 목록을 리스트(List, [])로 전달"
   ]
  },
  {
   "cell_type": "code",
   "execution_count": 68,
   "metadata": {},
   "outputs": [
    {
     "data": {
      "text/plain": [
       "c    75\n",
       "e    45\n",
       "g    95\n",
       "dtype: int64"
      ]
     },
     "execution_count": 68,
     "metadata": {},
     "output_type": "execute_result"
    }
   ],
   "source": [
    "# 3,5,7번째 데이터를 선택하기\n",
    "sample[[2,4,6]]\n",
    "# 하나의 인자값에 여러 값을 전달하는 경우 리스트로 묶기"
   ]
  },
  {
   "cell_type": "code",
   "execution_count": 70,
   "metadata": {},
   "outputs": [
    {
     "data": {
      "text/plain": [
       "c    75\n",
       "e    45\n",
       "g    95\n",
       "dtype: int64"
      ]
     },
     "execution_count": 70,
     "metadata": {},
     "output_type": "execute_result"
    }
   ],
   "source": [
    "sample[['c','e','g']]"
   ]
  },
  {
   "cell_type": "markdown",
   "metadata": {},
   "source": [
    "3)인덱스 슬라이싱 - 주어진 범위에 해당하는 데이터 선택\n",
    "<img src=\"img/1강/Series-슬라이싱.jpg\" alt=\"datetime\" style=\"width: 500px;\"/>"
   ]
  },
  {
   "cell_type": "markdown",
   "metadata": {},
   "source": [
    "- start idx와 end idx는 생략이 가능\n",
    "- start idx를 생략 -> 맨 첫 데이터부터 선택\n",
    "- end idx를 생략 -> 데이터 끝까지 선택"
   ]
  },
  {
   "cell_type": "code",
   "execution_count": 72,
   "metadata": {},
   "outputs": [
    {
     "data": {
      "text/plain": [
       "c    75\n",
       "d    55\n",
       "e    45\n",
       "f    90\n",
       "g    95\n",
       "dtype: int64"
      ]
     },
     "execution_count": 72,
     "metadata": {},
     "output_type": "execute_result"
    }
   ],
   "source": [
    "# c부터 g까지의 데이터 선택\n",
    "# 인덱스 슬라이싱 안 한 경우\n",
    "sample[['c','d','e','f','g']]"
   ]
  },
  {
   "cell_type": "code",
   "execution_count": 74,
   "metadata": {},
   "outputs": [
    {
     "data": {
      "text/plain": [
       "c    75\n",
       "d    55\n",
       "e    45\n",
       "f    90\n",
       "g    95\n",
       "dtype: int64"
      ]
     },
     "execution_count": 74,
     "metadata": {},
     "output_type": "execute_result"
    }
   ],
   "source": [
    "# 인덱스 슬라이싱 한 경우\n",
    "sample['c':'g'] # 문자 인덱스: 엔드 인덱스 포함"
   ]
  },
  {
   "cell_type": "code",
   "execution_count": 76,
   "metadata": {},
   "outputs": [
    {
     "data": {
      "text/plain": [
       "c    75\n",
       "d    55\n",
       "e    45\n",
       "f    90\n",
       "g    95\n",
       "dtype: int64"
      ]
     },
     "execution_count": 76,
     "metadata": {},
     "output_type": "execute_result"
    }
   ],
   "source": [
    "sample[2:7] # 숫자 인덱스: 엔드 인덱스 미포함"
   ]
  },
  {
   "cell_type": "code",
   "execution_count": 78,
   "metadata": {},
   "outputs": [
    {
     "data": {
      "text/plain": [
       "a    85\n",
       "b    90\n",
       "c    75\n",
       "d    55\n",
       "e    45\n",
       "dtype: int64"
      ]
     },
     "execution_count": 78,
     "metadata": {},
     "output_type": "execute_result"
    }
   ],
   "source": [
    "# sample의 맨 앞에 5개 데이터 선택\n",
    "# 스타트 인덱스를 생략하면 처음부터 슬라이싱을 하는 것\n",
    "# sample[0:5]\n",
    "sample[:5]"
   ]
  },
  {
   "cell_type": "code",
   "execution_count": 80,
   "metadata": {},
   "outputs": [
    {
     "data": {
      "text/plain": [
       "h     85\n",
       "i     90\n",
       "j    100\n",
       "dtype: int64"
      ]
     },
     "execution_count": 80,
     "metadata": {},
     "output_type": "execute_result"
    }
   ],
   "source": [
    "# 엔드 인덱스를 생략하면 마지막 데이터까지 선택함\n",
    "# sample[7:10]\n",
    "sample[7:]"
   ]
  },
  {
   "cell_type": "code",
   "execution_count": 81,
   "metadata": {},
   "outputs": [
    {
     "data": {
      "text/plain": [
       "h     85\n",
       "i     90\n",
       "j    100\n",
       "dtype: int64"
      ]
     },
     "execution_count": 81,
     "metadata": {},
     "output_type": "execute_result"
    }
   ],
   "source": [
    "# sample의 맨 뒤에 있는 3개 데이터 석택\n",
    "sample[-3:]"
   ]
  },
  {
   "cell_type": "markdown",
   "metadata": {},
   "source": [
    "4) 조건 색인(불리언 색인) : 조건을 활용한 인덱스 선택\n",
    "- 조건에 충족하는 데이터만 선택하는 방법\n",
    "- 매우 많이 활용되므로, 꼭 알고 있어야 함!\n",
    "<img src=\"img/1강/조건색인1.jpg\" alt=\"datetime\" style=\"width: 1200px;\"/>"
   ]
  },
  {
   "cell_type": "code",
   "execution_count": 86,
   "metadata": {},
   "outputs": [],
   "source": [
    "boolean_idx = [True, False, False, False, False, \n",
    "               True, True, True, True, True]\n",
    "# sample에 있는 데이터 개수와 boolean_idx 리스트 항목 개수가 동일해야함"
   ]
  },
  {
   "cell_type": "code",
   "execution_count": 85,
   "metadata": {},
   "outputs": [
    {
     "data": {
      "text/plain": [
       "a     85\n",
       "f     90\n",
       "g     95\n",
       "h     85\n",
       "i     90\n",
       "j    100\n",
       "dtype: int64"
      ]
     },
     "execution_count": 85,
     "metadata": {},
     "output_type": "execute_result"
    }
   ],
   "source": [
    "sample[boolean_idx]"
   ]
  },
  {
   "cell_type": "markdown",
   "metadata": {},
   "source": [
    "- boolean index를 조건을 통해 생성할 수 있다. \n",
    "<img src=\"img/1강/조건색인2.jpg\" alt=\"datetime\" style=\"width: 1200px;\"/>"
   ]
  },
  {
   "cell_type": "code",
   "execution_count": 87,
   "metadata": {
    "scrolled": true
   },
   "outputs": [
    {
     "data": {
      "text/plain": [
       "a    False\n",
       "b     True\n",
       "c    False\n",
       "d    False\n",
       "e    False\n",
       "f     True\n",
       "g     True\n",
       "h    False\n",
       "i     True\n",
       "j     True\n",
       "dtype: bool"
      ]
     },
     "execution_count": 87,
     "metadata": {},
     "output_type": "execute_result"
    }
   ],
   "source": [
    "sample >= 90"
   ]
  },
  {
   "cell_type": "code",
   "execution_count": 88,
   "metadata": {},
   "outputs": [
    {
     "data": {
      "text/plain": [
       "b     90\n",
       "f     90\n",
       "g     95\n",
       "i     90\n",
       "j    100\n",
       "dtype: int64"
      ]
     },
     "execution_count": 88,
     "metadata": {},
     "output_type": "execute_result"
    }
   ],
   "source": [
    "sample[sample >= 90]"
   ]
  },
  {
   "cell_type": "markdown",
   "metadata": {},
   "source": [
    "<b>[Mini Quiz #4]</b> sample 데이터의 평균값보다 큰 데이터만 선택"
   ]
  },
  {
   "cell_type": "code",
   "execution_count": 94,
   "metadata": {},
   "outputs": [
    {
     "data": {
      "text/plain": [
       "81.0"
      ]
     },
     "execution_count": 94,
     "metadata": {},
     "output_type": "execute_result"
    }
   ],
   "source": [
    "# 1) 평균값 구하기\n",
    "sample.mean()"
   ]
  },
  {
   "cell_type": "code",
   "execution_count": 95,
   "metadata": {},
   "outputs": [],
   "source": [
    "# 2) 불리언 인덱스를 생성\n",
    "bool_idx = sample > sample.mean()"
   ]
  },
  {
   "cell_type": "code",
   "execution_count": 96,
   "metadata": {},
   "outputs": [
    {
     "data": {
      "text/plain": [
       "a     85\n",
       "b     90\n",
       "f     90\n",
       "g     95\n",
       "h     85\n",
       "i     90\n",
       "j    100\n",
       "dtype: int64"
      ]
     },
     "execution_count": 96,
     "metadata": {},
     "output_type": "execute_result"
    }
   ],
   "source": [
    "# 3) sample[sample > sample.mean()]\n",
    "sample[bool_idx]"
   ]
  },
  {
   "cell_type": "markdown",
   "metadata": {},
   "source": [
    "<b>[Mini Quiz #5]</b> sample의 값이 50과 80 사이의 데이터만 선택"
   ]
  },
  {
   "cell_type": "code",
   "execution_count": 98,
   "metadata": {},
   "outputs": [],
   "source": [
    "# 조건 2개 이상을 나열할 때는 조건을 괄호로 묶어야 함\n",
    "cond_50_80 = (sample >= 50) & (sample <= 80)"
   ]
  },
  {
   "cell_type": "code",
   "execution_count": 99,
   "metadata": {},
   "outputs": [
    {
     "data": {
      "text/plain": [
       "c    75\n",
       "d    55\n",
       "dtype: int64"
      ]
     },
     "execution_count": 99,
     "metadata": {},
     "output_type": "execute_result"
    }
   ],
   "source": [
    "sample[cond_50_80]"
   ]
  },
  {
   "cell_type": "markdown",
   "metadata": {},
   "source": [
    "=============================================================\n",
    "# 실습 문제 "
   ]
  },
  {
   "cell_type": "code",
   "execution_count": 7,
   "metadata": {},
   "outputs": [],
   "source": [
    "import random\n",
    "from pandas import Series"
   ]
  },
  {
   "cell_type": "code",
   "execution_count": 8,
   "metadata": {},
   "outputs": [
    {
     "data": {
      "text/plain": [
       "A    46\n",
       "B    85\n",
       "C    69\n",
       "D    83\n",
       "E    32\n",
       "F     9\n",
       "G     4\n",
       "H    37\n",
       "I    94\n",
       "J    93\n",
       "K    26\n",
       "L    43\n",
       "M    86\n",
       "N    14\n",
       "O    58\n",
       "P    64\n",
       "Q    97\n",
       "R    31\n",
       "S    11\n",
       "T    20\n",
       "U    96\n",
       "V    53\n",
       "W    15\n",
       "X    17\n",
       "Y    75\n",
       "Z    91\n",
       "dtype: int64"
      ]
     },
     "execution_count": 8,
     "metadata": {},
     "output_type": "execute_result"
    }
   ],
   "source": [
    "# 실습 데이터 생성\n",
    "sample = random.sample(range(1,100),26) # 1~100사이의 값을 26개 생성하여 list로 반환\n",
    "data = Series(sample, index = list('ABCDEFGHIJKLMNOPQRSTUVWXYZ'))\n",
    "data"
   ]
  },
  {
   "cell_type": "code",
   "execution_count": 8,
   "metadata": {},
   "outputs": [
    {
     "data": {
      "text/plain": [
       "25"
      ]
     },
     "execution_count": 8,
     "metadata": {},
     "output_type": "execute_result"
    }
   ],
   "source": [
    "# 1) 인덱스 라벨이 'K' 항목의 값 출력\n",
    "data['K'] # 대소문자는 구분함, 소문자로 입력 시 keyError 발생"
   ]
  },
  {
   "cell_type": "code",
   "execution_count": 9,
   "metadata": {},
   "outputs": [
    {
     "data": {
      "text/plain": [
       "A     1\n",
       "F    22\n",
       "C    11\n",
       "dtype: int64"
      ]
     },
     "execution_count": 9,
     "metadata": {},
     "output_type": "execute_result"
    }
   ],
   "source": [
    "# 2) 인덱스 라벨이 'A','F','C' 항목의 값 출력\n",
    "data[['A','F','C']]"
   ]
  },
  {
   "cell_type": "code",
   "execution_count": 10,
   "metadata": {},
   "outputs": [
    {
     "data": {
      "text/plain": [
       "F    22\n",
       "G    37\n",
       "H    63\n",
       "I    86\n",
       "J    14\n",
       "K    25\n",
       "L    13\n",
       "M    44\n",
       "N    99\n",
       "O    26\n",
       "P    55\n",
       "dtype: int64"
      ]
     },
     "execution_count": 10,
     "metadata": {},
     "output_type": "execute_result"
    }
   ],
   "source": [
    "# 3) 5번 인덱스부터 15번 인덱스까지의 항목 출력\n",
    "data[5:16]"
   ]
  },
  {
   "cell_type": "code",
   "execution_count": 11,
   "metadata": {},
   "outputs": [
    {
     "data": {
      "text/plain": [
       "V    95\n",
       "W    20\n",
       "X    73\n",
       "Y    38\n",
       "Z    83\n",
       "dtype: int64"
      ]
     },
     "execution_count": 11,
     "metadata": {},
     "output_type": "execute_result"
    }
   ],
   "source": [
    "# 4) 뒤에서 5개 항목 출력\n",
    "# data[21:26]\n",
    "data[-5:]"
   ]
  },
  {
   "cell_type": "code",
   "execution_count": 12,
   "metadata": {},
   "outputs": [
    {
     "data": {
      "text/plain": [
       "26"
      ]
     },
     "execution_count": 12,
     "metadata": {},
     "output_type": "execute_result"
    }
   ],
   "source": [
    "# 5) data의 항목의 갯수를 출력\n",
    "data.size"
   ]
  },
  {
   "cell_type": "code",
   "execution_count": 12,
   "metadata": {},
   "outputs": [
    {
     "data": {
      "text/plain": [
       "B    85\n",
       "C    69\n",
       "D    83\n",
       "I    94\n",
       "J    93\n",
       "M    86\n",
       "O    58\n",
       "P    64\n",
       "Q    97\n",
       "U    96\n",
       "V    53\n",
       "Y    75\n",
       "Z    91\n",
       "dtype: int64"
      ]
     },
     "execution_count": 12,
     "metadata": {},
     "output_type": "execute_result"
    }
   ],
   "source": [
    "# 6) data 항목 값들의 평균보다 큰 항목만 출력 \n",
    "## Hint. data 항목 값들의 평균은 data.mean()으로 구할 수 있다.\n",
    "# data.mean()\n",
    "# data > 52.769\n",
    "# data[data > 52.769]\n",
    "data[data > data.mean()]"
   ]
  },
  {
   "cell_type": "code",
   "execution_count": 13,
   "metadata": {},
   "outputs": [
    {
     "data": {
      "text/plain": [
       "False"
      ]
     },
     "execution_count": 13,
     "metadata": {},
     "output_type": "execute_result"
    }
   ],
   "source": [
    "# 7) data의 항목 값 중에 50이 있는지 확인하여, 있으면 True, 없으면 False를 출력\n",
    "# 50 in [10, 20, 30]\n",
    "50 in data.values"
   ]
  },
  {
   "cell_type": "code",
   "execution_count": 18,
   "metadata": {},
   "outputs": [
    {
     "name": "stdout",
     "output_type": "stream",
     "text": [
      "index: A, value: 46\n",
      "index: B, value: 85\n",
      "index: C, value: 69\n",
      "index: D, value: 83\n",
      "index: E, value: 32\n",
      "index: F, value: 9\n",
      "index: G, value: 4\n",
      "index: H, value: 37\n",
      "index: I, value: 94\n",
      "index: J, value: 93\n",
      "index: K, value: 26\n",
      "index: L, value: 43\n",
      "index: M, value: 86\n",
      "index: N, value: 14\n",
      "index: O, value: 58\n",
      "index: P, value: 64\n",
      "index: Q, value: 97\n",
      "index: R, value: 31\n",
      "index: S, value: 11\n",
      "index: T, value: 20\n",
      "index: U, value: 96\n",
      "index: V, value: 53\n",
      "index: W, value: 15\n",
      "index: X, value: 17\n",
      "index: Y, value: 75\n",
      "index: Z, value: 91\n"
     ]
    }
   ],
   "source": [
    "# 8) data의 인덱스 라벨과 각 항목 값을 아래와 같이 출력\n",
    "# index: A, value: XX\n",
    "# index: B, value: XX\n",
    "# index: C, value: XX\n",
    "\n",
    "# for i in list(range(data.size)):\n",
    "#     print('index: ', data.index[i], ', value: ', data.values[i], sep='')\n",
    "\n",
    "# items() 함수는 index와 values를 튜플 형식으로 출력\n",
    "for idx, val in data.items():\n",
    "    print('index: ', idx, ', value: ', val, sep='')"
   ]
  }
 ],
 "metadata": {
  "kernelspec": {
   "display_name": "Python 3",
   "language": "python",
   "name": "python3"
  },
  "language_info": {
   "codemirror_mode": {
    "name": "ipython",
    "version": 3
   },
   "file_extension": ".py",
   "mimetype": "text/x-python",
   "name": "python",
   "nbconvert_exporter": "python",
   "pygments_lexer": "ipython3",
   "version": "3.8.5"
  },
  "toc": {
   "base_numbering": 1,
   "nav_menu": {},
   "number_sections": true,
   "sideBar": true,
   "skip_h1_title": false,
   "title_cell": "Table of Contents",
   "title_sidebar": "Contents",
   "toc_cell": false,
   "toc_position": {},
   "toc_section_display": true,
   "toc_window_display": false
  }
 },
 "nbformat": 4,
 "nbformat_minor": 2
}
