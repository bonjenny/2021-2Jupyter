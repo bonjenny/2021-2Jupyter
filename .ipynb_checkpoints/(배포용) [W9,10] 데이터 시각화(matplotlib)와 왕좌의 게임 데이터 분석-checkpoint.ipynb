{
 "cells": [
  {
   "cell_type": "markdown",
   "metadata": {},
   "source": [
    "# 데이터 시각화의 개념 및 중요성\n",
    "#### 기업\n",
    "- 데이터를 활용한 사용자 맞춤형 서비스 제공\n",
    "\n",
    "#### 국가\n",
    "- 데이터를 통합적으로 관리/구축하려는 시도\n",
    "- 복지의 사각지대 해소, 교통체계 구축 등 민생의 질 개선 위한 서비스에 이용\n",
    "\n",
    "#### 개인\n",
    "- 가계부 작성, 주식/부동산 등 제테크 목적으로 경제상황 이해 위해 분석"
   ]
  },
  {
   "cell_type": "markdown",
   "metadata": {},
   "source": [
    "# 데이터 시각화\n",
    ": 차트/그래프를 이용해 효과적으로 사용자들이 이해하기 쉽게 만드는 과정\n",
    "- 복잡한 데이터를 쉽게 이해\n",
    "- 분석결과 공유하여 데이터 기반 의사결정 가능\n",
    "\n",
    "#### 데이터가 중요하다는 핵심\n",
    "- 데이터를 어떻게 활용할 것인가 > 시각화를 통해\n",
    "- 어떠한 가치를 창출할 수있는가\n",
    "\n",
    "#### 시각화의 장점\n",
    "- 1) 많은 양의 데이터를 한눈에 볼 수 있음\n",
    "- 2) 효과적인 분석 결과를 공유하여 데이터 기반 의사결정 가능\n",
    "> 데이터 분석을 통해서 얻은 인사이트 공유, \n",
    "> 대시보드(여러 차트/표로 구성된 보드, 중요 데이터 지표(KPI)) 공유\n",
    "\n",
    "#### 시각화하는 이유\n",
    "- 분석한 결과나 데이터를 잘 이해하기 위해서\n",
    "- 데이터의 특성, 분석 결과, 데이터 상황별로 어떤 차트를 사용해야 더 효과적으로 데이터 시각화할 수 있을지 고민해야 함"
   ]
  },
  {
   "cell_type": "markdown",
   "metadata": {},
   "source": [
    "<h1><b style=\"color: red; background: rgba(255,255,0,0.7);\">Matplotlib</b></h1>\n",
    "\n",
    "- 대표적인 시각화 라이브러리\n",
    "- <b>안정적으로 다양하고 파워풀한 기능 제공</b>\n",
    "- 2002년 파이썬에서 MATLAB과 유사한 인터페이스를 지원하고자 시작됨\n",
    "- 최근 bokeh, seaborn, plotly와 같은 새로운 시각화 패키지들도 많이 사용됨\n",
    "\n",
    "\n",
    "- <b>일관성 없는 인터페이스로 사용 어려움</b>\n",
    "- 라인 플롯, 바 차트, 파이차트, 히스토그램 등 정형화된 차트나 플로 이외에도 저수준 API(사용자 입장에서는 난해하지만, 더 정교한 작업 가능)를 이용한 다양한 시각화 기능 제공"
   ]
  },
  {
   "cell_type": "markdown",
   "metadata": {},
   "source": [
    "# Pyplot\n",
    "- matplotlib에 있는 최상위 모듈\n",
    "- Pyplot에 있는 모든 함수는 현재 figure의 현재 axes에 수행됨"
   ]
  },
  {
   "cell_type": "markdown",
   "metadata": {},
   "source": [
    "# pylab\n",
    "- pyplot와 numpy를 하나의 네임스페이스로 임포트한 모듈\n",
    "- Deprecated 대신 pyplot을 사용\n",
    "- 예제가 pylab으로 되어있다면 pyplot으로 변경해서 사용하거나 또는 pyplot으로 만들어진 예제 찾아서 활용하는 것이 좋음"
   ]
  },
  {
   "cell_type": "markdown",
   "metadata": {},
   "source": [
    "# Matplotlib.pyplot\n",
    "- matplotlib의 핵심 모듈\n",
    "- 데이터를 시각화하기 위한 대부분의 기능을 제공\n",
    "- Matplotlib > Example > plotting categorical variables에서 예제 제공\n",
    "- Matplotlib Tutorial에서 레벨에 따른 튜토리얼 제공\n",
    "\n",
    "#### Figure: 그래프를 그려지는 캔버스\n",
    "- 모든 그림은 Figure 객체에 포함됨(Matplotlib, figure)\n",
    "- 원래는 figure() 함수를 통해 객체 생성하지만 plot() 함수는 자동으로 생성됨\n",
    "\n",
    "#### Axes (subplot): figure 안에 있는 각각의 그래프\n",
    "- 하나의 figure 안에 여러 개의 axes를 그릴 수 있으나, 하나의 axes는 여러 개의 figure에 속할 수 없음\n",
    "- 원래는 subplot()으로 생성해야 하지만 plot() 함수에서 자동으로 생성\n",
    "- axes는 2개의 축(x, y축)을 가짐"
   ]
  },
  {
   "cell_type": "markdown",
   "metadata": {},
   "source": [
    "# 그래프 선택 가이드\n",
    "Dr. Andrew Ablela가 제안한 차트 선택 방법(2009)\n",
    "- 1) 비교(Comparison): 막대 그래프(주로 범주형), 라인 그래프(주로 시계열)\n",
    "- 2) 관계(Relationship): 스캐터 차트(2차원), 버블 차트(3차원)\n",
    "- 3) 분산(Distribution): 히스토그램, 스캐터차트, 버블 차트\n",
    "- 4) 구성 요소(Composition): 파이 차트, 막대 그래프(stacked)\n",
    "\n",
    "#### Line Plot (선 그래프)\n",
    "- Plot(): x축이 연속형 값인 경우 주로 활용 (날짜, 연도같은 시계열 데이터)\n",
    "- subplot(): 하나의 figure에 여러 개의 axes(subplot) 생성\n",
    "\n",
    "#### Bar Plot (막대 그래프)\n",
    "- x축의 값이 주로 범주형 변수(categorical variable)인 경우에 주로 활용 (성별, 기기유형\n",
    "\n",
    "#### Pie Plot (파이 차트)\n",
    "- 점유율과 같이 y값의 합이 100인 데이터 시각화에 주로 활용\n",
    "\n",
    "#### 히스토그램\n",
    "- 숫자 데이터를 동일한 폭의 통(bucket)으로 그룹화하여 그리는 방법\n",
    "- 그룹집계(groupby) 해야할 것을 히스토그램으로 간단히 표현 가능\n",
    "- <b style=\"color: red; background: rgba(255,255,0,0.7);\">hist()</b>: 단순 연령 정보가 아닌 연령대 분포를 보여줌\n",
    "- <b style=\"color: red; background: rgba(255,255,0,0.7);\">scatter()</b>: 산점도 그래프, 데이터의 분포를 볼 때 주로 사용\n",
    "\n",
    "> 스캐터 차트는 2차원 데이터, 버블 차트는 3차원 데이터\n",
    "- <b style=\"color: red; background: rgba(255,255,0,0.7);\">imshow()</b>: 이미지를 보여줌"
   ]
  },
  {
   "cell_type": "code",
   "execution_count": 41,
   "metadata": {},
   "outputs": [],
   "source": [
    "import pandas as pd\n",
    "import numpy as np\n",
    "from pandas import Series, DataFrame"
   ]
  },
  {
   "cell_type": "markdown",
   "metadata": {},
   "source": [
    "# 데이터 시각화 (Matplotlib) 활용와 왕좌의 게임 데이터 분석"
   ]
  },
  {
   "cell_type": "markdown",
   "metadata": {},
   "source": [
    "## 1. matplotlib 간단 실습\n",
    "> import matplotlib만 할 경우 하위 라이브러리는 import 안됨"
   ]
  },
  {
   "cell_type": "code",
   "execution_count": 42,
   "metadata": {},
   "outputs": [],
   "source": [
    "import matplotlib\n",
    "import matplotlib.pyplot as plt"
   ]
  },
  {
   "cell_type": "markdown",
   "metadata": {
    "heading_collapsed": true
   },
   "source": [
    "### 1.1 하나의 그래프 그리기\n",
    "1.1.1 line graph 그리기"
   ]
  },
  {
   "cell_type": "code",
   "execution_count": 3,
   "metadata": {},
   "outputs": [
    {
     "data": {
      "text/plain": [
       "A    10\n",
       "B    20\n",
       "C    30\n",
       "dtype: int64"
      ]
     },
     "execution_count": 3,
     "metadata": {},
     "output_type": "execute_result"
    }
   ],
   "source": [
    "sr = Series([10,20,30], index=['A','B','C'])\n",
    "sr"
   ]
  },
  {
   "cell_type": "code",
   "execution_count": 7,
   "metadata": {},
   "outputs": [
    {
     "data": {
      "text/plain": [
       "[<matplotlib.lines.Line2D at 0x2182b7513a0>]"
      ]
     },
     "execution_count": 7,
     "metadata": {},
     "output_type": "execute_result"
    },
    {
     "data": {
      "image/png": "[encoded data removed]",
      "text/plain": [
       "<Figure size 432x288 with 1 Axes>"
      ]
     },
     "metadata": {
      "needs_background": "light"
     },
     "output_type": "display_data"
    }
   ],
   "source": [
    "# plt.plot(): 비어있는 figure와 새로운 axes 객체 생성 후 그래프 그림\n",
    "plt.plot(sr)"
   ]
  },
  {
   "cell_type": "markdown",
   "metadata": {
    "hidden": true
   },
   "source": [
    "1.1.2 bar graph 그리기\n",
    "### <b style=\"color: red; background: rgba(255,255,0,0.7);\">bar graph에는 x와 height라는 인자 필요</b>"
   ]
  },
  {
   "cell_type": "code",
   "execution_count": 10,
   "metadata": {},
   "outputs": [
    {
     "data": {
      "text/plain": [
       "['Solarize_Light2',\n",
       " '_classic_test_patch',\n",
       " 'bmh',\n",
       " 'classic',\n",
       " 'dark_background',\n",
       " 'fast',\n",
       " 'fivethirtyeight',\n",
       " 'ggplot',\n",
       " 'grayscale',\n",
       " 'seaborn',\n",
       " 'seaborn-bright',\n",
       " 'seaborn-colorblind',\n",
       " 'seaborn-dark',\n",
       " 'seaborn-dark-palette',\n",
       " 'seaborn-darkgrid',\n",
       " 'seaborn-deep',\n",
       " 'seaborn-muted',\n",
       " 'seaborn-notebook',\n",
       " 'seaborn-paper',\n",
       " 'seaborn-pastel',\n",
       " 'seaborn-poster',\n",
       " 'seaborn-talk',\n",
       " 'seaborn-ticks',\n",
       " 'seaborn-white',\n",
       " 'seaborn-whitegrid',\n",
       " 'tableau-colorblind10']"
      ]
     },
     "execution_count": 10,
     "metadata": {},
     "output_type": "execute_result"
    }
   ],
   "source": [
    "plt.style.available"
   ]
  },
  {
   "cell_type": "code",
   "execution_count": 46,
   "metadata": {},
   "outputs": [
    {
     "data": {
      "text/plain": [
       "<BarContainer object of 5 artists>"
      ]
     },
     "execution_count": 46,
     "metadata": {},
     "output_type": "execute_result"
    },
    {
     "data": {
      "image/png": "[encoded data removed]",
      "text/plain": [
       "<Figure size 640x480 with 1 Axes>"
      ]
     },
     "metadata": {},
     "output_type": "display_data"
    }
   ],
   "source": [
    "sr = Series([1,2,4,8,16], index=['A','B','C','D','E'])\n",
    "plt.style.use('default')\n",
    "plt.bar(x = sr.index, height = sr.values)"
   ]
  },
  {
   "cell_type": "markdown",
   "metadata": {},
   "source": [
    "> pandas의 plot()은 그래프 종류 상관없이 일관된 인터페이스 제공"
   ]
  },
  {
   "cell_type": "code",
   "execution_count": 16,
   "metadata": {},
   "outputs": [
    {
     "data": {
      "text/plain": [
       "<AxesSubplot:>"
      ]
     },
     "execution_count": 16,
     "metadata": {},
     "output_type": "execute_result"
    },
    {
     "data": {
      "image/png": "[encoded data removed]",
      "text/plain": [
       "<Figure size 432x288 with 1 Axes>"
      ]
     },
     "metadata": {
      "needs_background": "light"
     },
     "output_type": "display_data"
    }
   ],
   "source": [
    "# plot(kind='bar')를 사용하여 bar 그래프를 동일하게 그릴 수 있다.\n",
    "sr.plot(kind='bar')"
   ]
  },
  {
   "cell_type": "markdown",
   "metadata": {
    "hidden": true
   },
   "source": [
    "1.1.3 두 개의 그래프를 하나로 그리기\n",
    "\n",
    "- <a href = https://matplotlib.org/3.1.0/api/_as_gen/matplotlib.pyplot.subplots.html> plt.subplots() </a> 함수는 새로운 figure와 axes(subplots)를 생성해 준다.\n",
    "\n",
    "### <b style=\"color: red; background: rgba(255,255,0,0.7);\">fig, axes = plt.subplots()</b>"
   ]
  },
  {
   "cell_type": "code",
   "execution_count": 23,
   "metadata": {},
   "outputs": [
    {
     "data": {
      "text/plain": [
       "<BarContainer object of 5 artists>"
      ]
     },
     "execution_count": 23,
     "metadata": {},
     "output_type": "execute_result"
    },
    {
     "data": {
      "image/png": "[encoded data removed]",
      "text/plain": [
       "<Figure size 432x288 with 1 Axes>"
      ]
     },
     "metadata": {
      "needs_background": "light"
     },
     "output_type": "display_data"
    }
   ],
   "source": [
    "# 새로운 axes에 plot을 실행\n",
    "# 같은 셀에서 변수 axes를 이용해 두 개의 그래프를 그림\n",
    "fig, axes = plt.subplots()\n",
    "axes.plot(sr, color='r') # 라인그래프 빨강색으로\n",
    "axes.bar(sr.index, sr.values)"
   ]
  },
  {
   "cell_type": "markdown",
   "metadata": {
    "hidden": true
   },
   "source": [
    "1.1.4 두 개 그래프를 서로 다른 y축 적용하기\n",
    "### <b style=\"color: red; background: rgba(255,255,0,0.7);\">ax2=ax.twinx() 이용하여 x축 공유, tick_params로 축의 색 지정</b>"
   ]
  },
  {
   "cell_type": "code",
   "execution_count": 24,
   "metadata": {},
   "outputs": [],
   "source": [
    "sr2=Series([500,300,250,180,700], index=['A','B','C','D','E'])"
   ]
  },
  {
   "cell_type": "code",
   "execution_count": 32,
   "metadata": {},
   "outputs": [
    {
     "data": {
      "text/plain": [
       "<BarContainer object of 5 artists>"
      ]
     },
     "execution_count": 32,
     "metadata": {},
     "output_type": "execute_result"
    },
    {
     "data": {
      "image/png": "[encoded data removed]",
      "text/plain": [
       "<Figure size 432x288 with 2 Axes>"
      ]
     },
     "metadata": {
      "needs_background": "light"
     },
     "output_type": "display_data"
    }
   ],
   "source": [
    "# 시리즈 값이 상대적으로 작아 값의 변화 이해하기 어려움\n",
    "# y축이 다르므로 서로 다른 axes에 그려주기\n",
    "fig, ax=plt.subplots()\n",
    "ax.plot(sr, color='r')\n",
    "ax.tick_params(axis='y', labelcolor='r')\n",
    "\n",
    "# x축은 공유\n",
    "ax2 = ax.twinx()\n",
    "ax2.bar(sr2.index, sr2.values, alpha=0.3)"
   ]
  },
  {
   "cell_type": "markdown",
   "metadata": {},
   "source": [
    "### 1.2. 여러 개 그래프 그리기 \n",
    "하나의 figure 안에 여러 개의 axes를 그리기\n",
    "### <b style=\"color: red; background: rgba(255,255,0,0.7);\">axes를 ax_list로 대체하여 ax_list[0,0] 형태로 지정</b>\n",
    "### <b style=\"color: red; background: rgba(255,255,0,0.7);\">set_title로 axes의 이름 부여</b>"
   ]
  },
  {
   "cell_type": "code",
   "execution_count": 33,
   "metadata": {},
   "outputs": [],
   "source": [
    "import random"
   ]
  },
  {
   "cell_type": "code",
   "execution_count": 38,
   "metadata": {},
   "outputs": [
    {
     "data": {
      "image/png": "[encoded data removed]",
      "text/plain": [
       "<Figure size 432x288 with 4 Axes>"
      ]
     },
     "metadata": {
      "needs_background": "light"
     },
     "output_type": "display_data"
    }
   ],
   "source": [
    "# subplots() 인자로 그래프 몇개 그릴지 지정 (2, 2로 총 4개 생성)\n",
    "figure, ax_list = plt.subplots(2,2)\n",
    "\n",
    "ax_list[0,0].plot(sr) # 왼쪽 위\n",
    "ax_list[0,0].set_title('Axes #1')\n",
    "ax_list[0,0].set_xlabel('x1') # x축 제목은 아래 그래프에 가려 보이지 않음\n",
    "ax_list[0,0].set_ylabel('y1')\n",
    "ax_list[0,1].hist(random.sample(range(1,100), 50), bins=5, color='r', alpha=0.3)\n",
    "# 오른쪽 위: 1~100 사이 50개 랜덤 값의 5개 그룹 분포도\n",
    "\n",
    "ax_list[1,0].bar(sr2.index, sr2.values)\n",
    "ax_list[1,1].scatter(random.sample(range(1,100), 50), random.sample(range(1,100), 50), alpha=0.3)\n",
    "plt.subplots_adjust(hspace=0.5, wspace=0.3)"
   ]
  },
  {
   "cell_type": "markdown",
   "metadata": {},
   "source": [
    "# Matplotlib\n",
    "- 오래된 파이썬 데이터 시각화 라이브러리\n",
    "- 매우 다양한 usecase에 사용됨\n",
    "- 다양한 usecase에 하나의 동작 방식으로 한계가 있으므로 backend라는 개념을 사용"
   ]
  },
  {
   "cell_type": "markdown",
   "metadata": {
    "heading_collapsed": true
   },
   "source": [
    "### 1.3. <a href = https://matplotlib.org/3.1.1/tutorials/introductory/usage.html#what-is-a-backend> backend </a> 개념\n",
    "Matplotlib은 매우 다양한 usecase에 사용되며, 이를 모두 충족시키기 위하여 다양한 backend를 지원함.  \n",
    "가장 많이 활용하는 옵션은 inline으로, 그래프를 output창에 바로 표현되도록 하는 옵션이며, <strong>%maptlotlib inline</strong>를 실행하여 설정한다. \n",
    "\n",
    "\n",
    "%로 시작하는 명령어는 Cell Magic 명령어로써, 파이썬 코드가 아니라 Jupyter에게 특정 기능을 수행하도록 하는 명령이다. 즉, %matplotlib inline 명령은 Jupyter에게 matplotlib 그래프를 출력 영역에 표시할 것을 지시하는 명령이다."
   ]
  },
  {
   "cell_type": "code",
   "execution_count": 39,
   "metadata": {},
   "outputs": [
    {
     "name": "stderr",
     "output_type": "stream",
     "text": [
      "UsageError: unrecognized arguments: # output 창에 그대로 표현\n"
     ]
    }
   ],
   "source": [
    "%matplotlib inline # output 창에 그대로 표현"
   ]
  },
  {
   "cell_type": "markdown",
   "metadata": {
    "hidden": true
   },
   "source": [
    "만약 그래프를 생성한 이후, interactive하게 그래프를 다루고 싶은 경우에는 backend를 interactive backend로 설정하면 된다.  \n",
    "예를 들어, <strong>%matplotlib nbagg</strong>를 실행하여 <strong>nbagg</strong>으로 설정을 변경할 수 있다.   \n",
    "보다 다양한 설정 옵션을 확인하려면 <a href = https://matplotlib.org/3.1.1/tutorials/introductory/usage.html#what-is-a-backend> 여기 </a>를 참고하면 된다.  \n",
    "\n",
    "아래와 같이 nbagg로 설정한 후, 그래프를 생성하면 output 창에 몇몇 버튼과 함께 그래프가 그려진다.  \n",
    "버튼들을 활용하여 zoon-in, zoom-out이 가능하다.   \n",
    "그래프를 그린 이후, set_title(), set_xlabel() 함수를 수행하면 현재 그래프에 적용되는 것을 확인할 수 있으며, 오른쪽 상단에 있는 파란색 버튼을 클릭하면 interactive 모드가 종료된다. "
   ]
  },
  {
   "cell_type": "code",
   "execution_count": 40,
   "metadata": {},
   "outputs": [],
   "source": [
    "%matplotlib nbagg"
   ]
  },
  {
   "cell_type": "code",
   "execution_count": 46,
   "metadata": {},
   "outputs": [
    {
     "data": {
      "application/javascript": [
       "/* Put everything inside the global mpl namespace */\n",
       "/* global mpl */\n",
       "window.mpl = {};\n",
       "\n",
       "mpl.get_websocket_type = function () {\n",
       "    if (typeof WebSocket !== 'undefined') {\n",
       "        return WebSocket;\n",
       "    } else if (typeof MozWebSocket !== 'undefined') {\n",
       "        return MozWebSocket;\n",
       "    } else {\n",
       "        alert(\n",
       "            'Your browser does not have WebSocket support. ' +\n",
       "                'Please try Chrome, Safari or Firefox ≥ 6. ' +\n",
       "                'Firefox 4 and 5 are also supported but you ' +\n",
       "                'have to enable WebSockets in about:config.'\n",
       "        );\n",
       "    }\n",
       "};\n",
       "\n",
       "mpl.figure = function (figure_id, websocket, ondownload, parent_element) {\n",
       "    this.id = figure_id;\n",
       "\n",
       "    this.ws = websocket;\n",
       "\n",
       "    this.supports_binary = this.ws.binaryType !== undefined;\n",
       "\n",
       "    if (!this.supports_binary) {\n",
       "        var warnings = document.getElementById('mpl-warnings');\n",
       "        if (warnings) {\n",
       "            warnings.style.display = 'block';\n",
       "            warnings.textContent =\n",
       "                'This browser does not support binary websocket messages. ' +\n",
       "                'Performance may be slow.';\n",
       "        }\n",
       "    }\n",
       "\n",
       "    this.imageObj = new Image();\n",
       "\n",
       "    this.context = undefined;\n",
       "    this.message = undefined;\n",
       "    this.canvas = undefined;\n",
       "    this.rubberband_canvas = undefined;\n",
       "    this.rubberband_context = undefined;\n",
       "    this.format_dropdown = undefined;\n",
       "\n",
       "    this.image_mode = 'full';\n",
       "\n",
       "    this.root = document.createElement('div');\n",
       "    this.root.setAttribute('style', 'display: inline-block');\n",
       "    this._root_extra_style(this.root);\n",
       "\n",
       "    parent_element.appendChild(this.root);\n",
       "\n",
       "    this._init_header(this);\n",
       "    this._init_canvas(this);\n",
       "    this._init_toolbar(this);\n",
       "\n",
       "    var fig = this;\n",
       "\n",
       "    this.waiting = false;\n",
       "\n",
       "    this.ws.onopen = function () {\n",
       "        fig.send_message('supports_binary', { value: fig.supports_binary });\n",
       "        fig.send_message('send_image_mode', {});\n",
       "        if (fig.ratio !== 1) {\n",
       "            fig.send_message('set_dpi_ratio', { dpi_ratio: fig.ratio });\n",
       "        }\n",
       "        fig.send_message('refresh', {});\n",
       "    };\n",
       "\n",
       "    this.imageObj.onload = function () {\n",
       "        if (fig.image_mode === 'full') {\n",
       "            // Full images could contain transparency (where diff images\n",
       "            // almost always do), so we need to clear the canvas so that\n",
       "            // there is no ghosting.\n",
       "            fig.context.clearRect(0, 0, fig.canvas.width, fig.canvas.height);\n",
       "        }\n",
       "        fig.context.drawImage(fig.imageObj, 0, 0);\n",
       "    };\n",
       "\n",
       "    this.imageObj.onunload = function () {\n",
       "        fig.ws.close();\n",
       "    };\n",
       "\n",
       "    this.ws.onmessage = this._make_on_message_function(this);\n",
       "\n",
       "    this.ondownload = ondownload;\n",
       "};\n",
       "\n",
       "mpl.figure.prototype._init_header = function () {\n",
       "    var titlebar = document.createElement('div');\n",
       "    titlebar.classList =\n",
       "        'ui-dialog-titlebar ui-widget-header ui-corner-all ui-helper-clearfix';\n",
       "    var titletext = document.createElement('div');\n",
       "    titletext.classList = 'ui-dialog-title';\n",
       "    titletext.setAttribute(\n",
       "        'style',\n",
       "        'width: 100%; text-align: center; padding: 3px;'\n",
       "    );\n",
       "    titlebar.appendChild(titletext);\n",
       "    this.root.appendChild(titlebar);\n",
       "    this.header = titletext;\n",
       "};\n",
       "\n",
       "mpl.figure.prototype._canvas_extra_style = function (_canvas_div) {};\n",
       "\n",
       "mpl.figure.prototype._root_extra_style = function (_canvas_div) {};\n",
       "\n",
       "mpl.figure.prototype._init_canvas = function () {\n",
       "    var fig = this;\n",
       "\n",
       "    var canvas_div = (this.canvas_div = document.createElement('div'));\n",
       "    canvas_div.setAttribute(\n",
       "        'style',\n",
       "        'border: 1px solid #ddd;' +\n",
       "            'box-sizing: content-box;' +\n",
       "            'clear: both;' +\n",
       "            'min-height: 1px;' +\n",
       "            'min-width: 1px;' +\n",
       "            'outline: 0;' +\n",
       "            'overflow: hidden;' +\n",
       "            'position: relative;' +\n",
       "            'resize: both;'\n",
       "    );\n",
       "\n",
       "    function on_keyboard_event_closure(name) {\n",
       "        return function (event) {\n",
       "            return fig.key_event(event, name);\n",
       "        };\n",
       "    }\n",
       "\n",
       "    canvas_div.addEventListener(\n",
       "        'keydown',\n",
       "        on_keyboard_event_closure('key_press')\n",
       "    );\n",
       "    canvas_div.addEventListener(\n",
       "        'keyup',\n",
       "        on_keyboard_event_closure('key_release')\n",
       "    );\n",
       "\n",
       "    this._canvas_extra_style(canvas_div);\n",
       "    this.root.appendChild(canvas_div);\n",
       "\n",
       "    var canvas = (this.canvas = document.createElement('canvas'));\n",
       "    canvas.classList.add('mpl-canvas');\n",
       "    canvas.setAttribute('style', 'box-sizing: content-box;');\n",
       "\n",
       "    this.context = canvas.getContext('2d');\n",
       "\n",
       "    var backingStore =\n",
       "        this.context.backingStorePixelRatio ||\n",
       "        this.context.webkitBackingStorePixelRatio ||\n",
       "        this.context.mozBackingStorePixelRatio ||\n",
       "        this.context.msBackingStorePixelRatio ||\n",
       "        this.context.oBackingStorePixelRatio ||\n",
       "        this.context.backingStorePixelRatio ||\n",
       "        1;\n",
       "\n",
       "    this.ratio = (window.devicePixelRatio || 1) / backingStore;\n",
       "\n",
       "    var rubberband_canvas = (this.rubberband_canvas = document.createElement(\n",
       "        'canvas'\n",
       "    ));\n",
       "    rubberband_canvas.setAttribute(\n",
       "        'style',\n",
       "        'box-sizing: content-box; position: absolute; left: 0; top: 0; z-index: 1;'\n",
       "    );\n",
       "\n",
       "    // Apply a ponyfill if ResizeObserver is not implemented by browser.\n",
       "    if (this.ResizeObserver === undefined) {\n",
       "        if (window.ResizeObserver !== undefined) {\n",
       "            this.ResizeObserver = window.ResizeObserver;\n",
       "        } else {\n",
       "            var obs = _JSXTOOLS_RESIZE_OBSERVER({});\n",
       "            this.ResizeObserver = obs.ResizeObserver;\n",
       "        }\n",
       "    }\n",
       "\n",
       "    this.resizeObserverInstance = new this.ResizeObserver(function (entries) {\n",
       "        var nentries = entries.length;\n",
       "        for (var i = 0; i < nentries; i++) {\n",
       "            var entry = entries[i];\n",
       "            var width, height;\n",
       "            if (entry.contentBoxSize) {\n",
       "                if (entry.contentBoxSize instanceof Array) {\n",
       "                    // Chrome 84 implements new version of spec.\n",
       "                    width = entry.contentBoxSize[0].inlineSize;\n",
       "                    height = entry.contentBoxSize[0].blockSize;\n",
       "                } else {\n",
       "                    // Firefox implements old version of spec.\n",
       "                    width = entry.contentBoxSize.inlineSize;\n",
       "                    height = entry.contentBoxSize.blockSize;\n",
       "                }\n",
       "            } else {\n",
       "                // Chrome <84 implements even older version of spec.\n",
       "                width = entry.contentRect.width;\n",
       "                height = entry.contentRect.height;\n",
       "            }\n",
       "\n",
       "            // Keep the size of the canvas and rubber band canvas in sync with\n",
       "            // the canvas container.\n",
       "            if (entry.devicePixelContentBoxSize) {\n",
       "                // Chrome 84 implements new version of spec.\n",
       "                canvas.setAttribute(\n",
       "                    'width',\n",
       "                    entry.devicePixelContentBoxSize[0].inlineSize\n",
       "                );\n",
       "                canvas.setAttribute(\n",
       "                    'height',\n",
       "                    entry.devicePixelContentBoxSize[0].blockSize\n",
       "                );\n",
       "            } else {\n",
       "                canvas.setAttribute('width', width * fig.ratio);\n",
       "                canvas.setAttribute('height', height * fig.ratio);\n",
       "            }\n",
       "            canvas.setAttribute(\n",
       "                'style',\n",
       "                'width: ' + width + 'px; height: ' + height + 'px;'\n",
       "            );\n",
       "\n",
       "            rubberband_canvas.setAttribute('width', width);\n",
       "            rubberband_canvas.setAttribute('height', height);\n",
       "\n",
       "            // And update the size in Python. We ignore the initial 0/0 size\n",
       "            // that occurs as the element is placed into the DOM, which should\n",
       "            // otherwise not happen due to the minimum size styling.\n",
       "            if (fig.ws.readyState == 1 && width != 0 && height != 0) {\n",
       "                fig.request_resize(width, height);\n",
       "            }\n",
       "        }\n",
       "    });\n",
       "    this.resizeObserverInstance.observe(canvas_div);\n",
       "\n",
       "    function on_mouse_event_closure(name) {\n",
       "        return function (event) {\n",
       "            return fig.mouse_event(event, name);\n",
       "        };\n",
       "    }\n",
       "\n",
       "    rubberband_canvas.addEventListener(\n",
       "        'mousedown',\n",
       "        on_mouse_event_closure('button_press')\n",
       "    );\n",
       "    rubberband_canvas.addEventListener(\n",
       "        'mouseup',\n",
       "        on_mouse_event_closure('button_release')\n",
       "    );\n",
       "    // Throttle sequential mouse events to 1 every 20ms.\n",
       "    rubberband_canvas.addEventListener(\n",
       "        'mousemove',\n",
       "        on_mouse_event_closure('motion_notify')\n",
       "    );\n",
       "\n",
       "    rubberband_canvas.addEventListener(\n",
       "        'mouseenter',\n",
       "        on_mouse_event_closure('figure_enter')\n",
       "    );\n",
       "    rubberband_canvas.addEventListener(\n",
       "        'mouseleave',\n",
       "        on_mouse_event_closure('figure_leave')\n",
       "    );\n",
       "\n",
       "    canvas_div.addEventListener('wheel', function (event) {\n",
       "        if (event.deltaY < 0) {\n",
       "            event.step = 1;\n",
       "        } else {\n",
       "            event.step = -1;\n",
       "        }\n",
       "        on_mouse_event_closure('scroll')(event);\n",
       "    });\n",
       "\n",
       "    canvas_div.appendChild(canvas);\n",
       "    canvas_div.appendChild(rubberband_canvas);\n",
       "\n",
       "    this.rubberband_context = rubberband_canvas.getContext('2d');\n",
       "    this.rubberband_context.strokeStyle = '#000000';\n",
       "\n",
       "    this._resize_canvas = function (width, height, forward) {\n",
       "        if (forward) {\n",
       "            canvas_div.style.width = width + 'px';\n",
       "            canvas_div.style.height = height + 'px';\n",
       "        }\n",
       "    };\n",
       "\n",
       "    // Disable right mouse context menu.\n",
       "    this.rubberband_canvas.addEventListener('contextmenu', function (_e) {\n",
       "        event.preventDefault();\n",
       "        return false;\n",
       "    });\n",
       "\n",
       "    function set_focus() {\n",
       "        canvas.focus();\n",
       "        canvas_div.focus();\n",
       "    }\n",
       "\n",
       "    window.setTimeout(set_focus, 100);\n",
       "};\n",
       "\n",
       "mpl.figure.prototype._init_toolbar = function () {\n",
       "    var fig = this;\n",
       "\n",
       "    var toolbar = document.createElement('div');\n",
       "    toolbar.classList = 'mpl-toolbar';\n",
       "    this.root.appendChild(toolbar);\n",
       "\n",
       "    function on_click_closure(name) {\n",
       "        return function (_event) {\n",
       "            return fig.toolbar_button_onclick(name);\n",
       "        };\n",
       "    }\n",
       "\n",
       "    function on_mouseover_closure(tooltip) {\n",
       "        return function (event) {\n",
       "            if (!event.currentTarget.disabled) {\n",
       "                return fig.toolbar_button_onmouseover(tooltip);\n",
       "            }\n",
       "        };\n",
       "    }\n",
       "\n",
       "    fig.buttons = {};\n",
       "    var buttonGroup = document.createElement('div');\n",
       "    buttonGroup.classList = 'mpl-button-group';\n",
       "    for (var toolbar_ind in mpl.toolbar_items) {\n",
       "        var name = mpl.toolbar_items[toolbar_ind][0];\n",
       "        var tooltip = mpl.toolbar_items[toolbar_ind][1];\n",
       "        var image = mpl.toolbar_items[toolbar_ind][2];\n",
       "        var method_name = mpl.toolbar_items[toolbar_ind][3];\n",
       "\n",
       "        if (!name) {\n",
       "            /* Instead of a spacer, we start a new button group. */\n",
       "            if (buttonGroup.hasChildNodes()) {\n",
       "                toolbar.appendChild(buttonGroup);\n",
       "            }\n",
       "            buttonGroup = document.createElement('div');\n",
       "            buttonGroup.classList = 'mpl-button-group';\n",
       "            continue;\n",
       "        }\n",
       "\n",
       "        var button = (fig.buttons[name] = document.createElement('button'));\n",
       "        button.classList = 'mpl-widget';\n",
       "        button.setAttribute('role', 'button');\n",
       "        button.setAttribute('aria-disabled', 'false');\n",
       "        button.addEventListener('click', on_click_closure(method_name));\n",
       "        button.addEventListener('mouseover', on_mouseover_closure(tooltip));\n",
       "\n",
       "        var icon_img = document.createElement('img');\n",
       "        icon_img.src = '_images/' + image + '.png';\n",
       "        icon_img.srcset = '_images/' + image + '_large.png 2x';\n",
       "        icon_img.alt = tooltip;\n",
       "        button.appendChild(icon_img);\n",
       "\n",
       "        buttonGroup.appendChild(button);\n",
       "    }\n",
       "\n",
       "    if (buttonGroup.hasChildNodes()) {\n",
       "        toolbar.appendChild(buttonGroup);\n",
       "    }\n",
       "\n",
       "    var fmt_picker = document.createElement('select');\n",
       "    fmt_picker.classList = 'mpl-widget';\n",
       "    toolbar.appendChild(fmt_picker);\n",
       "    this.format_dropdown = fmt_picker;\n",
       "\n",
       "    for (var ind in mpl.extensions) {\n",
       "        var fmt = mpl.extensions[ind];\n",
       "        var option = document.createElement('option');\n",
       "        option.selected = fmt === mpl.default_extension;\n",
       "        option.innerHTML = fmt;\n",
       "        fmt_picker.appendChild(option);\n",
       "    }\n",
       "\n",
       "    var status_bar = document.createElement('span');\n",
       "    status_bar.classList = 'mpl-message';\n",
       "    toolbar.appendChild(status_bar);\n",
       "    this.message = status_bar;\n",
       "};\n",
       "\n",
       "mpl.figure.prototype.request_resize = function (x_pixels, y_pixels) {\n",
       "    // Request matplotlib to resize the figure. Matplotlib will then trigger a resize in the client,\n",
       "    // which will in turn request a refresh of the image.\n",
       "    this.send_message('resize', { width: x_pixels, height: y_pixels });\n",
       "};\n",
       "\n",
       "mpl.figure.prototype.send_message = function (type, properties) {\n",
       "    properties['type'] = type;\n",
       "    properties['figure_id'] = this.id;\n",
       "    this.ws.send(JSON.stringify(properties));\n",
       "};\n",
       "\n",
       "mpl.figure.prototype.send_draw_message = function () {\n",
       "    if (!this.waiting) {\n",
       "        this.waiting = true;\n",
       "        this.ws.send(JSON.stringify({ type: 'draw', figure_id: this.id }));\n",
       "    }\n",
       "};\n",
       "\n",
       "mpl.figure.prototype.handle_save = function (fig, _msg) {\n",
       "    var format_dropdown = fig.format_dropdown;\n",
       "    var format = format_dropdown.options[format_dropdown.selectedIndex].value;\n",
       "    fig.ondownload(fig, format);\n",
       "};\n",
       "\n",
       "mpl.figure.prototype.handle_resize = function (fig, msg) {\n",
       "    var size = msg['size'];\n",
       "    if (size[0] !== fig.canvas.width || size[1] !== fig.canvas.height) {\n",
       "        fig._resize_canvas(size[0], size[1], msg['forward']);\n",
       "        fig.send_message('refresh', {});\n",
       "    }\n",
       "};\n",
       "\n",
       "mpl.figure.prototype.handle_rubberband = function (fig, msg) {\n",
       "    var x0 = msg['x0'] / fig.ratio;\n",
       "    var y0 = (fig.canvas.height - msg['y0']) / fig.ratio;\n",
       "    var x1 = msg['x1'] / fig.ratio;\n",
       "    var y1 = (fig.canvas.height - msg['y1']) / fig.ratio;\n",
       "    x0 = Math.floor(x0) + 0.5;\n",
       "    y0 = Math.floor(y0) + 0.5;\n",
       "    x1 = Math.floor(x1) + 0.5;\n",
       "    y1 = Math.floor(y1) + 0.5;\n",
       "    var min_x = Math.min(x0, x1);\n",
       "    var min_y = Math.min(y0, y1);\n",
       "    var width = Math.abs(x1 - x0);\n",
       "    var height = Math.abs(y1 - y0);\n",
       "\n",
       "    fig.rubberband_context.clearRect(\n",
       "        0,\n",
       "        0,\n",
       "        fig.canvas.width / fig.ratio,\n",
       "        fig.canvas.height / fig.ratio\n",
       "    );\n",
       "\n",
       "    fig.rubberband_context.strokeRect(min_x, min_y, width, height);\n",
       "};\n",
       "\n",
       "mpl.figure.prototype.handle_figure_label = function (fig, msg) {\n",
       "    // Updates the figure title.\n",
       "    fig.header.textContent = msg['label'];\n",
       "};\n",
       "\n",
       "mpl.figure.prototype.handle_cursor = function (fig, msg) {\n",
       "    var cursor = msg['cursor'];\n",
       "    switch (cursor) {\n",
       "        case 0:\n",
       "            cursor = 'pointer';\n",
       "            break;\n",
       "        case 1:\n",
       "            cursor = 'default';\n",
       "            break;\n",
       "        case 2:\n",
       "            cursor = 'crosshair';\n",
       "            break;\n",
       "        case 3:\n",
       "            cursor = 'move';\n",
       "            break;\n",
       "    }\n",
       "    fig.rubberband_canvas.style.cursor = cursor;\n",
       "};\n",
       "\n",
       "mpl.figure.prototype.handle_message = function (fig, msg) {\n",
       "    fig.message.textContent = msg['message'];\n",
       "};\n",
       "\n",
       "mpl.figure.prototype.handle_draw = function (fig, _msg) {\n",
       "    // Request the server to send over a new figure.\n",
       "    fig.send_draw_message();\n",
       "};\n",
       "\n",
       "mpl.figure.prototype.handle_image_mode = function (fig, msg) {\n",
       "    fig.image_mode = msg['mode'];\n",
       "};\n",
       "\n",
       "mpl.figure.prototype.handle_history_buttons = function (fig, msg) {\n",
       "    for (var key in msg) {\n",
       "        if (!(key in fig.buttons)) {\n",
       "            continue;\n",
       "        }\n",
       "        fig.buttons[key].disabled = !msg[key];\n",
       "        fig.buttons[key].setAttribute('aria-disabled', !msg[key]);\n",
       "    }\n",
       "};\n",
       "\n",
       "mpl.figure.prototype.handle_navigate_mode = function (fig, msg) {\n",
       "    if (msg['mode'] === 'PAN') {\n",
       "        fig.buttons['Pan'].classList.add('active');\n",
       "        fig.buttons['Zoom'].classList.remove('active');\n",
       "    } else if (msg['mode'] === 'ZOOM') {\n",
       "        fig.buttons['Pan'].classList.remove('active');\n",
       "        fig.buttons['Zoom'].classList.add('active');\n",
       "    } else {\n",
       "        fig.buttons['Pan'].classList.remove('active');\n",
       "        fig.buttons['Zoom'].classList.remove('active');\n",
       "    }\n",
       "};\n",
       "\n",
       "mpl.figure.prototype.updated_canvas_event = function () {\n",
       "    // Called whenever the canvas gets updated.\n",
       "    this.send_message('ack', {});\n",
       "};\n",
       "\n",
       "// A function to construct a web socket function for onmessage handling.\n",
       "// Called in the figure constructor.\n",
       "mpl.figure.prototype._make_on_message_function = function (fig) {\n",
       "    return function socket_on_message(evt) {\n",
       "        if (evt.data instanceof Blob) {\n",
       "            /* FIXME: We get \"Resource interpreted as Image but\n",
       "             * transferred with MIME type text/plain:\" errors on\n",
       "             * Chrome.  But how to set the MIME type?  It doesn't seem\n",
       "             * to be part of the websocket stream */\n",
       "            evt.data.type = 'image/png';\n",
       "\n",
       "            /* Free the memory for the previous frames */\n",
       "            if (fig.imageObj.src) {\n",
       "                (window.URL || window.webkitURL).revokeObjectURL(\n",
       "                    fig.imageObj.src\n",
       "                );\n",
       "            }\n",
       "\n",
       "            fig.imageObj.src = (window.URL || window.webkitURL).createObjectURL(\n",
       "                evt.data\n",
       "            );\n",
       "            fig.updated_canvas_event();\n",
       "            fig.waiting = false;\n",
       "            return;\n",
       "        } else if (\n",
       "            typeof evt.data === 'string' &&\n",
       "            evt.data.slice(0, 21) === 'data:image/png;base64'\n",
       "        ) {\n",
       "            fig.imageObj.src = evt.data;\n",
       "            fig.updated_canvas_event();\n",
       "            fig.waiting = false;\n",
       "            return;\n",
       "        }\n",
       "\n",
       "        var msg = JSON.parse(evt.data);\n",
       "        var msg_type = msg['type'];\n",
       "\n",
       "        // Call the  \"handle_{type}\" callback, which takes\n",
       "        // the figure and JSON message as its only arguments.\n",
       "        try {\n",
       "            var callback = fig['handle_' + msg_type];\n",
       "        } catch (e) {\n",
       "            console.log(\n",
       "                \"No handler for the '\" + msg_type + \"' message type: \",\n",
       "                msg\n",
       "            );\n",
       "            return;\n",
       "        }\n",
       "\n",
       "        if (callback) {\n",
       "            try {\n",
       "                // console.log(\"Handling '\" + msg_type + \"' message: \", msg);\n",
       "                callback(fig, msg);\n",
       "            } catch (e) {\n",
       "                console.log(\n",
       "                    \"Exception inside the 'handler_\" + msg_type + \"' callback:\",\n",
       "                    e,\n",
       "                    e.stack,\n",
       "                    msg\n",
       "                );\n",
       "            }\n",
       "        }\n",
       "    };\n",
       "};\n",
       "\n",
       "// from http://stackoverflow.com/questions/1114465/getting-mouse-location-in-canvas\n",
       "mpl.findpos = function (e) {\n",
       "    //this section is from http://www.quirksmode.org/js/events_properties.html\n",
       "    var targ;\n",
       "    if (!e) {\n",
       "        e = window.event;\n",
       "    }\n",
       "    if (e.target) {\n",
       "        targ = e.target;\n",
       "    } else if (e.srcElement) {\n",
       "        targ = e.srcElement;\n",
       "    }\n",
       "    if (targ.nodeType === 3) {\n",
       "        // defeat Safari bug\n",
       "        targ = targ.parentNode;\n",
       "    }\n",
       "\n",
       "    // pageX,Y are the mouse positions relative to the document\n",
       "    var boundingRect = targ.getBoundingClientRect();\n",
       "    var x = e.pageX - (boundingRect.left + document.body.scrollLeft);\n",
       "    var y = e.pageY - (boundingRect.top + document.body.scrollTop);\n",
       "\n",
       "    return { x: x, y: y };\n",
       "};\n",
       "\n",
       "/*\n",
       " * return a copy of an object with only non-object keys\n",
       " * we need this to avoid circular references\n",
       " * http://stackoverflow.com/a/24161582/3208463\n",
       " */\n",
       "function simpleKeys(original) {\n",
       "    return Object.keys(original).reduce(function (obj, key) {\n",
       "        if (typeof original[key] !== 'object') {\n",
       "            obj[key] = original[key];\n",
       "        }\n",
       "        return obj;\n",
       "    }, {});\n",
       "}\n",
       "\n",
       "mpl.figure.prototype.mouse_event = function (event, name) {\n",
       "    var canvas_pos = mpl.findpos(event);\n",
       "\n",
       "    if (name === 'button_press') {\n",
       "        this.canvas.focus();\n",
       "        this.canvas_div.focus();\n",
       "    }\n",
       "\n",
       "    var x = canvas_pos.x * this.ratio;\n",
       "    var y = canvas_pos.y * this.ratio;\n",
       "\n",
       "    this.send_message(name, {\n",
       "        x: x,\n",
       "        y: y,\n",
       "        button: event.button,\n",
       "        step: event.step,\n",
       "        guiEvent: simpleKeys(event),\n",
       "    });\n",
       "\n",
       "    /* This prevents the web browser from automatically changing to\n",
       "     * the text insertion cursor when the button is pressed.  We want\n",
       "     * to control all of the cursor setting manually through the\n",
       "     * 'cursor' event from matplotlib */\n",
       "    event.preventDefault();\n",
       "    return false;\n",
       "};\n",
       "\n",
       "mpl.figure.prototype._key_event_extra = function (_event, _name) {\n",
       "    // Handle any extra behaviour associated with a key event\n",
       "};\n",
       "\n",
       "mpl.figure.prototype.key_event = function (event, name) {\n",
       "    // Prevent repeat events\n",
       "    if (name === 'key_press') {\n",
       "        if (event.which === this._key) {\n",
       "            return;\n",
       "        } else {\n",
       "            this._key = event.which;\n",
       "        }\n",
       "    }\n",
       "    if (name === 'key_release') {\n",
       "        this._key = null;\n",
       "    }\n",
       "\n",
       "    var value = '';\n",
       "    if (event.ctrlKey && event.which !== 17) {\n",
       "        value += 'ctrl+';\n",
       "    }\n",
       "    if (event.altKey && event.which !== 18) {\n",
       "        value += 'alt+';\n",
       "    }\n",
       "    if (event.shiftKey && event.which !== 16) {\n",
       "        value += 'shift+';\n",
       "    }\n",
       "\n",
       "    value += 'k';\n",
       "    value += event.which.toString();\n",
       "\n",
       "    this._key_event_extra(event, name);\n",
       "\n",
       "    this.send_message(name, { key: value, guiEvent: simpleKeys(event) });\n",
       "    return false;\n",
       "};\n",
       "\n",
       "mpl.figure.prototype.toolbar_button_onclick = function (name) {\n",
       "    if (name === 'download') {\n",
       "        this.handle_save(this, null);\n",
       "    } else {\n",
       "        this.send_message('toolbar_button', { name: name });\n",
       "    }\n",
       "};\n",
       "\n",
       "mpl.figure.prototype.toolbar_button_onmouseover = function (tooltip) {\n",
       "    this.message.textContent = tooltip;\n",
       "};\n",
       "\n",
       "///////////////// REMAINING CONTENT GENERATED BY embed_js.py /////////////////\n",
       "// prettier-ignore\n",
       "var _JSXTOOLS_RESIZE_OBSERVER=function(A){var t,i=new WeakMap,n=new WeakMap,a=new WeakMap,r=new WeakMap,o=new Set;function s(e){if(!(this instanceof s))throw new TypeError(\"Constructor requires 'new' operator\");i.set(this,e)}function h(){throw new TypeError(\"Function is not a constructor\")}function c(e,t,i,n){e=0 in arguments?Number(arguments[0]):0,t=1 in arguments?Number(arguments[1]):0,i=2 in arguments?Number(arguments[2]):0,n=3 in arguments?Number(arguments[3]):0,this.right=(this.x=this.left=e)+(this.width=i),this.bottom=(this.y=this.top=t)+(this.height=n),Object.freeze(this)}function d(){t=requestAnimationFrame(d);var s=new WeakMap,p=new Set;o.forEach((function(t){r.get(t).forEach((function(i){var r=t instanceof window.SVGElement,o=a.get(t),d=r?0:parseFloat(o.paddingTop),f=r?0:parseFloat(o.paddingRight),l=r?0:parseFloat(o.paddingBottom),u=r?0:parseFloat(o.paddingLeft),g=r?0:parseFloat(o.borderTopWidth),m=r?0:parseFloat(o.borderRightWidth),w=r?0:parseFloat(o.borderBottomWidth),b=u+f,F=d+l,v=(r?0:parseFloat(o.borderLeftWidth))+m,W=g+w,y=r?0:t.offsetHeight-W-t.clientHeight,E=r?0:t.offsetWidth-v-t.clientWidth,R=b+v,z=F+W,M=r?t.width:parseFloat(o.width)-R-E,O=r?t.height:parseFloat(o.height)-z-y;if(n.has(t)){var k=n.get(t);if(k[0]===M&&k[1]===O)return}n.set(t,[M,O]);var S=Object.create(h.prototype);S.target=t,S.contentRect=new c(u,d,M,O),s.has(i)||(s.set(i,[]),p.add(i)),s.get(i).push(S)}))})),p.forEach((function(e){i.get(e).call(e,s.get(e),e)}))}return s.prototype.observe=function(i){if(i instanceof window.Element){r.has(i)||(r.set(i,new Set),o.add(i),a.set(i,window.getComputedStyle(i)));var n=r.get(i);n.has(this)||n.add(this),cancelAnimationFrame(t),t=requestAnimationFrame(d)}},s.prototype.unobserve=function(i){if(i instanceof window.Element&&r.has(i)){var n=r.get(i);n.has(this)&&(n.delete(this),n.size||(r.delete(i),o.delete(i))),n.size||r.delete(i),o.size||cancelAnimationFrame(t)}},A.DOMRectReadOnly=c,A.ResizeObserver=s,A.ResizeObserverEntry=h,A}; // eslint-disable-line\n",
       "mpl.toolbar_items = [[\"Home\", \"Reset original view\", \"fa fa-home icon-home\", \"home\"], [\"Back\", \"Back to previous view\", \"fa fa-arrow-left icon-arrow-left\", \"back\"], [\"Forward\", \"Forward to next view\", \"fa fa-arrow-right icon-arrow-right\", \"forward\"], [\"\", \"\", \"\", \"\"], [\"Pan\", \"Left button pans, Right button zooms\\nx/y fixes axis, CTRL fixes aspect\", \"fa fa-arrows icon-move\", \"pan\"], [\"Zoom\", \"Zoom to rectangle\\nx/y fixes axis, CTRL fixes aspect\", \"fa fa-square-o icon-check-empty\", \"zoom\"], [\"\", \"\", \"\", \"\"], [\"Download\", \"Download plot\", \"fa fa-floppy-o icon-save\", \"download\"]];\n",
       "\n",
       "mpl.extensions = [\"eps\", \"jpeg\", \"pdf\", \"png\", \"ps\", \"raw\", \"svg\", \"tif\"];\n",
       "\n",
       "mpl.default_extension = \"png\";/* global mpl */\n",
       "\n",
       "var comm_websocket_adapter = function (comm) {\n",
       "    // Create a \"websocket\"-like object which calls the given IPython comm\n",
       "    // object with the appropriate methods. Currently this is a non binary\n",
       "    // socket, so there is still some room for performance tuning.\n",
       "    var ws = {};\n",
       "\n",
       "    ws.close = function () {\n",
       "        comm.close();\n",
       "    };\n",
       "    ws.send = function (m) {\n",
       "        //console.log('sending', m);\n",
       "        comm.send(m);\n",
       "    };\n",
       "    // Register the callback with on_msg.\n",
       "    comm.on_msg(function (msg) {\n",
       "        //console.log('receiving', msg['content']['data'], msg);\n",
       "        // Pass the mpl event to the overridden (by mpl) onmessage function.\n",
       "        ws.onmessage(msg['content']['data']);\n",
       "    });\n",
       "    return ws;\n",
       "};\n",
       "\n",
       "mpl.mpl_figure_comm = function (comm, msg) {\n",
       "    // This is the function which gets called when the mpl process\n",
       "    // starts-up an IPython Comm through the \"matplotlib\" channel.\n",
       "\n",
       "    var id = msg.content.data.id;\n",
       "    // Get hold of the div created by the display call when the Comm\n",
       "    // socket was opened in Python.\n",
       "    var element = document.getElementById(id);\n",
       "    var ws_proxy = comm_websocket_adapter(comm);\n",
       "\n",
       "    function ondownload(figure, _format) {\n",
       "        window.open(figure.canvas.toDataURL());\n",
       "    }\n",
       "\n",
       "    var fig = new mpl.figure(id, ws_proxy, ondownload, element);\n",
       "\n",
       "    // Call onopen now - mpl needs it, as it is assuming we've passed it a real\n",
       "    // web socket which is closed, not our websocket->open comm proxy.\n",
       "    ws_proxy.onopen();\n",
       "\n",
       "    fig.parent_element = element;\n",
       "    fig.cell_info = mpl.find_output_cell(\"<div id='\" + id + \"'></div>\");\n",
       "    if (!fig.cell_info) {\n",
       "        console.error('Failed to find cell for figure', id, fig);\n",
       "        return;\n",
       "    }\n",
       "    fig.cell_info[0].output_area.element.on(\n",
       "        'cleared',\n",
       "        { fig: fig },\n",
       "        fig._remove_fig_handler\n",
       "    );\n",
       "};\n",
       "\n",
       "mpl.figure.prototype.handle_close = function (fig, msg) {\n",
       "    var width = fig.canvas.width / fig.ratio;\n",
       "    fig.cell_info[0].output_area.element.off(\n",
       "        'cleared',\n",
       "        fig._remove_fig_handler\n",
       "    );\n",
       "    fig.resizeObserverInstance.unobserve(fig.canvas_div);\n",
       "\n",
       "    // Update the output cell to use the data from the current canvas.\n",
       "    fig.push_to_output();\n",
       "    var dataURL = fig.canvas.toDataURL();\n",
       "    // Re-enable the keyboard manager in IPython - without this line, in FF,\n",
       "    // the notebook keyboard shortcuts fail.\n",
       "    IPython.keyboard_manager.enable();\n",
       "    fig.parent_element.innerHTML =\n",
       "        '<img src=\"' + dataURL + '\" width=\"' + width + '\">';\n",
       "    fig.close_ws(fig, msg);\n",
       "};\n",
       "\n",
       "mpl.figure.prototype.close_ws = function (fig, msg) {\n",
       "    fig.send_message('closing', msg);\n",
       "    // fig.ws.close()\n",
       "};\n",
       "\n",
       "mpl.figure.prototype.push_to_output = function (_remove_interactive) {\n",
       "    // Turn the data on the canvas into data in the output cell.\n",
       "    var width = this.canvas.width / this.ratio;\n",
       "    var dataURL = this.canvas.toDataURL();\n",
       "    this.cell_info[1]['text/html'] =\n",
       "        '<img src=\"' + dataURL + '\" width=\"' + width + '\">';\n",
       "};\n",
       "\n",
       "mpl.figure.prototype.updated_canvas_event = function () {\n",
       "    // Tell IPython that the notebook contents must change.\n",
       "    IPython.notebook.set_dirty(true);\n",
       "    this.send_message('ack', {});\n",
       "    var fig = this;\n",
       "    // Wait a second, then push the new image to the DOM so\n",
       "    // that it is saved nicely (might be nice to debounce this).\n",
       "    setTimeout(function () {\n",
       "        fig.push_to_output();\n",
       "    }, 1000);\n",
       "};\n",
       "\n",
       "mpl.figure.prototype._init_toolbar = function () {\n",
       "    var fig = this;\n",
       "\n",
       "    var toolbar = document.createElement('div');\n",
       "    toolbar.classList = 'btn-toolbar';\n",
       "    this.root.appendChild(toolbar);\n",
       "\n",
       "    function on_click_closure(name) {\n",
       "        return function (_event) {\n",
       "            return fig.toolbar_button_onclick(name);\n",
       "        };\n",
       "    }\n",
       "\n",
       "    function on_mouseover_closure(tooltip) {\n",
       "        return function (event) {\n",
       "            if (!event.currentTarget.disabled) {\n",
       "                return fig.toolbar_button_onmouseover(tooltip);\n",
       "            }\n",
       "        };\n",
       "    }\n",
       "\n",
       "    fig.buttons = {};\n",
       "    var buttonGroup = document.createElement('div');\n",
       "    buttonGroup.classList = 'btn-group';\n",
       "    var button;\n",
       "    for (var toolbar_ind in mpl.toolbar_items) {\n",
       "        var name = mpl.toolbar_items[toolbar_ind][0];\n",
       "        var tooltip = mpl.toolbar_items[toolbar_ind][1];\n",
       "        var image = mpl.toolbar_items[toolbar_ind][2];\n",
       "        var method_name = mpl.toolbar_items[toolbar_ind][3];\n",
       "\n",
       "        if (!name) {\n",
       "            /* Instead of a spacer, we start a new button group. */\n",
       "            if (buttonGroup.hasChildNodes()) {\n",
       "                toolbar.appendChild(buttonGroup);\n",
       "            }\n",
       "            buttonGroup = document.createElement('div');\n",
       "            buttonGroup.classList = 'btn-group';\n",
       "            continue;\n",
       "        }\n",
       "\n",
       "        button = fig.buttons[name] = document.createElement('button');\n",
       "        button.classList = 'btn btn-default';\n",
       "        button.href = '#';\n",
       "        button.title = name;\n",
       "        button.innerHTML = '<i class=\"fa ' + image + ' fa-lg\"></i>';\n",
       "        button.addEventListener('click', on_click_closure(method_name));\n",
       "        button.addEventListener('mouseover', on_mouseover_closure(tooltip));\n",
       "        buttonGroup.appendChild(button);\n",
       "    }\n",
       "\n",
       "    if (buttonGroup.hasChildNodes()) {\n",
       "        toolbar.appendChild(buttonGroup);\n",
       "    }\n",
       "\n",
       "    // Add the status bar.\n",
       "    var status_bar = document.createElement('span');\n",
       "    status_bar.classList = 'mpl-message pull-right';\n",
       "    toolbar.appendChild(status_bar);\n",
       "    this.message = status_bar;\n",
       "\n",
       "    // Add the close button to the window.\n",
       "    var buttongrp = document.createElement('div');\n",
       "    buttongrp.classList = 'btn-group inline pull-right';\n",
       "    button = document.createElement('button');\n",
       "    button.classList = 'btn btn-mini btn-primary';\n",
       "    button.href = '#';\n",
       "    button.title = 'Stop Interaction';\n",
       "    button.innerHTML = '<i class=\"fa fa-power-off icon-remove icon-large\"></i>';\n",
       "    button.addEventListener('click', function (_evt) {\n",
       "        fig.handle_close(fig, {});\n",
       "    });\n",
       "    button.addEventListener(\n",
       "        'mouseover',\n",
       "        on_mouseover_closure('Stop Interaction')\n",
       "    );\n",
       "    buttongrp.appendChild(button);\n",
       "    var titlebar = this.root.querySelector('.ui-dialog-titlebar');\n",
       "    titlebar.insertBefore(buttongrp, titlebar.firstChild);\n",
       "};\n",
       "\n",
       "mpl.figure.prototype._remove_fig_handler = function (event) {\n",
       "    var fig = event.data.fig;\n",
       "    if (event.target !== this) {\n",
       "        // Ignore bubbled events from children.\n",
       "        return;\n",
       "    }\n",
       "    fig.close_ws(fig, {});\n",
       "};\n",
       "\n",
       "mpl.figure.prototype._root_extra_style = function (el) {\n",
       "    el.style.boxSizing = 'content-box'; // override notebook setting of border-box.\n",
       "};\n",
       "\n",
       "mpl.figure.prototype._canvas_extra_style = function (el) {\n",
       "    // this is important to make the div 'focusable\n",
       "    el.setAttribute('tabindex', 0);\n",
       "    // reach out to IPython and tell the keyboard manager to turn it's self\n",
       "    // off when our div gets focus\n",
       "\n",
       "    // location in version 3\n",
       "    if (IPython.notebook.keyboard_manager) {\n",
       "        IPython.notebook.keyboard_manager.register_events(el);\n",
       "    } else {\n",
       "        // location in version 2\n",
       "        IPython.keyboard_manager.register_events(el);\n",
       "    }\n",
       "};\n",
       "\n",
       "mpl.figure.prototype._key_event_extra = function (event, _name) {\n",
       "    var manager = IPython.notebook.keyboard_manager;\n",
       "    if (!manager) {\n",
       "        manager = IPython.keyboard_manager;\n",
       "    }\n",
       "\n",
       "    // Check for shift+enter\n",
       "    if (event.shiftKey && event.which === 13) {\n",
       "        this.canvas_div.blur();\n",
       "        // select the cell after this one\n",
       "        var index = IPython.notebook.find_cell_index(this.cell_info[0]);\n",
       "        IPython.notebook.select(index + 1);\n",
       "    }\n",
       "};\n",
       "\n",
       "mpl.figure.prototype.handle_save = function (fig, _msg) {\n",
       "    fig.ondownload(fig, null);\n",
       "};\n",
       "\n",
       "mpl.find_output_cell = function (html_output) {\n",
       "    // Return the cell and output element which can be found *uniquely* in the notebook.\n",
       "    // Note - this is a bit hacky, but it is done because the \"notebook_saving.Notebook\"\n",
       "    // IPython event is triggered only after the cells have been serialised, which for\n",
       "    // our purposes (turning an active figure into a static one), is too late.\n",
       "    var cells = IPython.notebook.get_cells();\n",
       "    var ncells = cells.length;\n",
       "    for (var i = 0; i < ncells; i++) {\n",
       "        var cell = cells[i];\n",
       "        if (cell.cell_type === 'code') {\n",
       "            for (var j = 0; j < cell.output_area.outputs.length; j++) {\n",
       "                var data = cell.output_area.outputs[j];\n",
       "                if (data.data) {\n",
       "                    // IPython >= 3 moved mimebundle to data attribute of output\n",
       "                    data = data.data;\n",
       "                }\n",
       "                if (data['text/html'] === html_output) {\n",
       "                    return [cell, data, j];\n",
       "                }\n",
       "            }\n",
       "        }\n",
       "    }\n",
       "};\n",
       "\n",
       "// Register the function which deals with the matplotlib target/channel.\n",
       "// The kernel may be null if the page has been refreshed.\n",
       "if (IPython.notebook.kernel !== null) {\n",
       "    IPython.notebook.kernel.comm_manager.register_target(\n",
       "        'matplotlib',\n",
       "        mpl.mpl_figure_comm\n",
       "    );\n",
       "}\n"
      ],
      "text/plain": [
       "<IPython.core.display.Javascript object>"
      ]
     },
     "metadata": {},
     "output_type": "display_data"
    },
    {
     "data": {
      "text/html": [
       "<img src=\"data:image/png;base64,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\" width=\"640\">"
      ],
      "text/plain": [
       "<IPython.core.display.HTML object>"
      ]
     },
     "metadata": {},
     "output_type": "display_data"
    },
    {
     "data": {
      "text/plain": [
       "[<matplotlib.lines.Line2D at 0x2182f556fa0>]"
      ]
     },
     "execution_count": 46,
     "metadata": {},
     "output_type": "execute_result"
    }
   ],
   "source": [
    "# 파랑색 전원버튼: interactive 모드 종료, 그래프 확정\n",
    "# plt.plot(sr)\n",
    "fig, ax = plt.subplots()\n",
    "ax.plot(sr)"
   ]
  },
  {
   "cell_type": "code",
   "execution_count": 47,
   "metadata": {},
   "outputs": [
    {
     "data": {
      "text/plain": [
       "<BarContainer object of 5 artists>"
      ]
     },
     "execution_count": 47,
     "metadata": {},
     "output_type": "execute_result"
    }
   ],
   "source": [
    "ax.set_title('Axes #1')\n",
    "ax.bar(sr2.index, sr2.values)"
   ]
  },
  {
   "cell_type": "markdown",
   "metadata": {},
   "source": [
    "### 1.4 <a href = https://matplotlib.org/users/customizing.html> matplotlib 설정 변경</a>\n",
    "\n",
    "<strong> 1.4.1 stylesheet 변경</strong>   \n",
    "   matplotlib을 통해 데이터 시각화할 때 적용되는 스타일을 변경 가능하며, 사용가능한 스타일시트 목록 및 샘플은 <a href= https://matplotlib.org/3.1.1/gallery/style_sheets/style_sheets_reference.html> 여기 </a>에서 확인 가능하다.\n",
    "   \n",
    "#### 장점\n",
    "- 많은 기능을 안정적으로 제공\n",
    "- 많은 레퍼런스\n",
    "- 두터운 사용자층\n",
    "\n",
    "#### 단점\n",
    "- 세련되지 않은 그래프\n",
    "- seaborn이나 bokeh, plotly, ggplot 같은 최신 그래프는 조금 더 세련된 그래프 그리기 가능"
   ]
  },
  {
   "cell_type": "code",
   "execution_count": 48,
   "metadata": {},
   "outputs": [
    {
     "data": {
      "text/plain": [
       "['Solarize_Light2',\n",
       " '_classic_test_patch',\n",
       " 'bmh',\n",
       " 'classic',\n",
       " 'dark_background',\n",
       " 'fast',\n",
       " 'fivethirtyeight',\n",
       " 'ggplot',\n",
       " 'grayscale',\n",
       " 'seaborn',\n",
       " 'seaborn-bright',\n",
       " 'seaborn-colorblind',\n",
       " 'seaborn-dark',\n",
       " 'seaborn-dark-palette',\n",
       " 'seaborn-darkgrid',\n",
       " 'seaborn-deep',\n",
       " 'seaborn-muted',\n",
       " 'seaborn-notebook',\n",
       " 'seaborn-paper',\n",
       " 'seaborn-pastel',\n",
       " 'seaborn-poster',\n",
       " 'seaborn-talk',\n",
       " 'seaborn-ticks',\n",
       " 'seaborn-white',\n",
       " 'seaborn-whitegrid',\n",
       " 'tableau-colorblind10']"
      ]
     },
     "execution_count": 48,
     "metadata": {},
     "output_type": "execute_result"
    }
   ],
   "source": [
    "# 사용가능한 스타일 목록\n",
    "plt.style.available"
   ]
  },
  {
   "cell_type": "code",
   "execution_count": null,
   "metadata": {},
   "outputs": [],
   "source": [
    "%matplotlib inline"
   ]
  },
  {
   "cell_type": "code",
   "execution_count": 5,
   "metadata": {
    "scrolled": false
   },
   "outputs": [
    {
     "data": {
      "text/plain": [
       "[<matplotlib.lines.Line2D at 0x2adc3753f70>]"
      ]
     },
     "execution_count": 5,
     "metadata": {},
     "output_type": "execute_result"
    },
    {
     "data": {
      "image/png": "[encoded data removed]",
      "text/plain": [
       "<Figure size 640x480 with 1 Axes>"
      ]
     },
     "metadata": {},
     "output_type": "display_data"
    }
   ],
   "source": [
    "plt.style.use('classic')\n",
    "plt.plot(sr)"
   ]
  },
  {
   "cell_type": "code",
   "execution_count": 6,
   "metadata": {},
   "outputs": [
    {
     "data": {
      "text/plain": [
       "[<matplotlib.lines.Line2D at 0x2adc35c7430>]"
      ]
     },
     "execution_count": 6,
     "metadata": {},
     "output_type": "execute_result"
    },
    {
     "data": {
      "image/png": "[encoded data removed]",
      "text/plain": [
       "<Figure size 640x480 with 1 Axes>"
      ]
     },
     "metadata": {},
     "output_type": "display_data"
    }
   ],
   "source": [
    "plt.style.use('ggplot')\n",
    "plt.plot(sr)"
   ]
  },
  {
   "cell_type": "code",
   "execution_count": 8,
   "metadata": {
    "scrolled": false
   },
   "outputs": [
    {
     "data": {
      "text/plain": [
       "[<matplotlib.lines.Line2D at 0x2adc36951f0>]"
      ]
     },
     "execution_count": 8,
     "metadata": {},
     "output_type": "execute_result"
    },
    {
     "data": {
      "image/png": "[encoded data removed]",
      "text/plain": [
       "<Figure size 640x480 with 1 Axes>"
      ]
     },
     "metadata": {},
     "output_type": "display_data"
    }
   ],
   "source": [
    "plt.style.use('dark_background')\n",
    "plt.plot(sr)"
   ]
  },
  {
   "cell_type": "markdown",
   "metadata": {},
   "source": [
    "1.4.2 <strong> <i> matplotlibrc</i></strong> 파일 수정을 통한 파라미터 수정 \n",
    "- matplotlibrc 파일을 통해 figure 크기, axes의 폰트사이즈, 색상, 스타일 등 matplotlib의 모든 속성(property)들을 설정 가능하다. \n",
    "- 파일을 변경한 후 저장하면, 이후에는 변경된 설정이 계속 사용된다.\n",
    "- matplotlibrc 파일을 수정한 후에는 jupyter notebook을 재시작해야 수정 내용이 반영된다. \n"
   ]
  },
  {
   "cell_type": "code",
   "execution_count": 38,
   "metadata": {},
   "outputs": [
    {
     "data": {
      "text/plain": [
       "'C:\\\\anaconda3\\\\lib\\\\site-packages\\\\matplotlib\\\\mpl-data\\\\matplotlibrc'"
      ]
     },
     "execution_count": 38,
     "metadata": {},
     "output_type": "execute_result"
    }
   ],
   "source": [
    "# matplotlibrc 파일 위치\n",
    "matplotlib.matplotlib_fname()"
   ]
  },
  {
   "cell_type": "markdown",
   "metadata": {},
   "source": [
    "1.4.3 matplotlib.rcParams을 통한 동적 설정 변경\n",
    "\n",
    "- matplotlib의 설정 정보는 <strong> matplotlib.rcParams</strong>에 저장되어 있으며, rcParams는 <strong><i>사전(Dict)</i></strong> 타입니다.\n",
    "- rcParams 변경을 통해 동적으로 설정이 변경가능하며, 변경 즉시 반영된다. "
   ]
  },
  {
   "cell_type": "code",
   "execution_count": 37,
   "metadata": {
    "scrolled": true
   },
   "outputs": [],
   "source": [
    "# 동적으로 바로설정하기\n",
    "matplotlib.rcParams # 사전타입\n",
    "matplotlib.rcParams['font.family'] = 'Malgun Gothic'"
   ]
  },
  {
   "cell_type": "markdown",
   "metadata": {},
   "source": [
    "### <b style=\"color: red; background: rgba(255,255,0,0.7);\">기본값 Sans-serif 사용하면 한글 깨지는 경우 발생</b>"
   ]
  },
  {
   "cell_type": "markdown",
   "metadata": {},
   "source": [
    "## 2. <a href=https://pandas.pydata.org/pandas-docs/stable/generated/pandas.DataFrame.plot.html>Pandas의 plot() 함수를 통한 시각화</a>\n",
    "- pandas의 대표적인 데이터타입인 Series와 DataFrame은 plot() 함수를 제공하며 이를 통해 여러 차트를 그릴 수 있다.   \n",
    "- 내부적으로는 Series.plot()과 DataFrame.plot() 모두 matplotlib를 사용하며, 파라미터 인자에 따라 적절한 함수가 호출된다.  \n",
    "- matplotlib은 plot()은 line graph, bar()는 bar graph, hist()는 히스토그램 등 차트의 종류에 따라 다른 함수를 호출해야 하지만, pandas는 차트의 종류에 상관 없이, 차트를 그리는 함수는 plot()이며, kind 인자를 통해 차트의 종류를 설정할 수 있다.   \n",
    "- matplotlib의 함수들을 직접 사용하는 것보다 사용자 친화적인 인터페이스를 제공하지만, matplotlib의 모든 기능을 제공하지는 않으므로 약간의 불편함은 존재한다."
   ]
  },
  {
   "cell_type": "markdown",
   "metadata": {},
   "source": [
    "# Pandas로 데이터 시각화하기\n",
    "<b>pandas</b>\n",
    "데이터 처리 및 분석\n",
    "\n",
    "   ↑ 복잡한 작업을 쉽게 처리\n",
    "   <b> numpy</b> 고속 행렬 연산 처리\n",
    "\n",
    "↑ 복잡한 시각화를 간편하게 처리\n",
    "<b>matplotlib</b> 데이터 시각화"
   ]
  },
  {
   "cell_type": "markdown",
   "metadata": {},
   "source": [
    "### <b style=\"color: red; background: rgba(255,255,0,0.7);\">Pandas.plot() 함수는 통일되고 간결한 인터페이스로 간단히 사용할 수 있지만, 정교한 작업은 불가능</b>\n",
    "### <b style=\"color: red; background: rgba(255,255,0,0.7);\">정교한 작업이 필요하다면 matplotlib 사용을 권장</b>"
   ]
  },
  {
   "cell_type": "markdown",
   "metadata": {},
   "source": [
    "<b>matplotlib</b>　　　　　←　<b>pandas</b>\n",
    "- plot(x)　　　　　　　plot(kind='line')\n",
    "- bar(x, height)　　　　plot(kind='bar')\n",
    "- hist(x, bins)　　　　　plot(kind='hist')"
   ]
  },
  {
   "cell_type": "markdown",
   "metadata": {},
   "source": [
    "# Plot 함수 인자값\n",
    "　　　　　　　　　　　　　　　(> 기본값)\n",
    "- x: x축으로 사용될 컬럼 지정 (row index)\n",
    "- y: y축의 값으로 사용될 컬럼 지정 (모든 수치형 컬럼)\n",
    "- kind: 사용할 차트의 형태 ('line')\n",
    "- subplots: 각각의 컬럼을 별도의 axes로 그릴지 여부 (False)\n",
    "- figsize: figure의 크기, 튜플(가로,세로)의 형태로 지정\n",
    "> (5,5): 가로 5, 세로 5의 피규어 생성\n",
    "- title: axes의 제목, subplots=True라면, 리스트의 형태로 지정\n",
    "- style: 컬럼별 라인 스타일 지정\n",
    "- xticks/yticks: x축과 y축의 tick 각각 지정\n",
    "- xlim/ylim: x축과 y축의 범위를 각각 지정\n",
    "- xlabel, ylabel: x축과 y축 이름 지정(버전 1.10부터 사용 가능)"
   ]
  },
  {
   "cell_type": "code",
   "execution_count": 39,
   "metadata": {},
   "outputs": [],
   "source": [
    "인구통계 = {'서울': [1053.5, 1023, 987],\n",
    "        '경기':[1023, 1067, 1123],\n",
    "        '충청':[512,489,487],\n",
    "        '경상':[897, 872, 811],\n",
    "        '전라':[451, 421, 399]\n",
    "      }\n",
    "df = DataFrame(인구통계)\n",
    "df.index = [2018, 2019, 2020]"
   ]
  },
  {
   "cell_type": "markdown",
   "metadata": {},
   "source": [
    "기본 그리기 - <a href= https://matplotlib.org/api/_as_gen/matplotlib.lines.Line2D.html#matplotlib.lines.Line2D>line graph</a>\n",
    "\n",
    "<h3><b style=\"color: red; background: rgba(255,255,0,0.7);\">plt.plot(df) - matplotlib의 plot() 함수</b></h3>\n",
    "우리는 dataFrame의 plot() 이용"
   ]
  },
  {
   "cell_type": "code",
   "execution_count": 60,
   "metadata": {},
   "outputs": [
    {
     "data": {
      "text/plain": [
       "array([<AxesSubplot:xlabel='년도', ylabel='인구수'>,\n",
       "       <AxesSubplot:xlabel='년도', ylabel='인구수'>,\n",
       "       <AxesSubplot:xlabel='년도', ylabel='인구수'>,\n",
       "       <AxesSubplot:xlabel='년도', ylabel='인구수'>,\n",
       "       <AxesSubplot:xlabel='년도', ylabel='인구수'>], dtype=object)"
      ]
     },
     "execution_count": 60,
     "metadata": {},
     "output_type": "execute_result"
    },
    {
     "data": {
      "image/png": "[encoded data removed]",
      "text/plain": [
       "<Figure size 500x300 with 5 Axes>"
      ]
     },
     "metadata": {},
     "output_type": "display_data"
    }
   ],
   "source": [
    "matplotlib.rcParams['font.family'] = 'Malgun Gothic'\n",
    "df.plot(kind='line',\n",
    "       figsize=(5,3),\n",
    "       title='인구추이',\n",
    "       xticks=[2018,2019,2020], # xticks=df.index\n",
    "        ylim=[300,1300],        # y의 범위값\n",
    "        xlabel='년도',\n",
    "        ylabel='인구수',\n",
    "       style=['+-','x-','d-','o-','<-'],\n",
    "       # style=style=['+','x','d','o','<'] 이면 마크만\n",
    "        subplots=True)\n",
    "\n",
    "# 만약 v1.1 이하면 label 따로 지정\n",
    "# plt.xlabel('년도')\n",
    "# plt.ylabel('인구수')"
   ]
  },
  {
   "cell_type": "markdown",
   "metadata": {},
   "source": [
    "<img src=\"img/예제실습/matplotlib인자.jpg\" alt=\" matplotlib\" style=\"width: 1200px;\"/>\n",
    "\n",
    "#### 색상: https://matplotlib.org/examples/color/named_colors.html\n",
    "#### 기타 스타일: https://matplotlib.org/api/_as_gen/matplotlib.lines.Line2D.html#matplotlib.lines.Line2D"
   ]
  },
  {
   "cell_type": "code",
   "execution_count": 62,
   "metadata": {},
   "outputs": [
    {
     "data": {
      "text/plain": [
       "array([<AxesSubplot:title={'center':'2018'}>,\n",
       "       <AxesSubplot:title={'center':'2019'}>,\n",
       "       <AxesSubplot:title={'center':'2020'}>], dtype=object)"
      ]
     },
     "execution_count": 62,
     "metadata": {},
     "output_type": "execute_result"
    },
    {
     "data": {
      "image/png": "[encoded data removed]",
      "text/plain": [
       "<Figure size 640x480 with 3 Axes>"
      ]
     },
     "metadata": {},
     "output_type": "display_data"
    }
   ],
   "source": [
    "# 실습. 연도별 지역별 인구수 그래프 그리기\n",
    "df.T.plot(kind='bar', subplots=True) # x축과 y축 변경하여 시각화"
   ]
  },
  {
   "cell_type": "markdown",
   "metadata": {},
   "source": [
    "# 왕좌의 게임 데이터\n",
    "- kaggle.com(2010년 설립된 데이터 과학지와 머신러닝 개발자들을 위한 온라인 커뮤니티)에서 제공하는 데이터\n",
    "> Compete(분석 경진 대회) > Datasets(데이터셋 제공) > Notebooks(분석 소스코드 제공) > Courses(교육 콘텐츠 제공)"
   ]
  },
  {
   "cell_type": "markdown",
   "metadata": {},
   "source": [
    "## 3. 왕좌의 게임 데이터 분석 및 시각화 실습\n",
    "#### 1) 데이터 적재\n",
    "- battless.csv : 전투의 이름, 발생년도, 전쟁 지역, 공격/수비 정보(가문, 왕, 군대 규모 등)을 저장\n",
    "- deaths.csv : 캐릭터들의 이름, 성별, 귀족 여부, 1~5권에서 나왔는지 여부와 사망 연도 등 사망 정보"
   ]
  },
  {
   "cell_type": "markdown",
   "metadata": {},
   "source": []
  },
  {
   "cell_type": "code",
   "execution_count": 64,
   "metadata": {
    "collapsed": true
   },
   "outputs": [
    {
     "data": {
      "text/html": [
       "<div>\n",
       "<style scoped>\n",
       "    .dataframe tbody tr th:only-of-type {\n",
       "        vertical-align: middle;\n",
       "    }\n",
       "\n",
       "    .dataframe tbody tr th {\n",
       "        vertical-align: top;\n",
       "    }\n",
       "\n",
       "    .dataframe thead th {\n",
       "        text-align: right;\n",
       "    }\n",
       "</style>\n",
       "<table border=\"1\" class=\"dataframe\">\n",
       "  <thead>\n",
       "    <tr style=\"text-align: right;\">\n",
       "      <th></th>\n",
       "      <th>name</th>\n",
       "      <th>year</th>\n",
       "      <th>battle_number</th>\n",
       "      <th>attacker_king</th>\n",
       "      <th>defender_king</th>\n",
       "      <th>attacker_1</th>\n",
       "      <th>attacker_2</th>\n",
       "      <th>attacker_3</th>\n",
       "      <th>attacker_4</th>\n",
       "      <th>defender_1</th>\n",
       "      <th>...</th>\n",
       "      <th>major_death</th>\n",
       "      <th>major_capture</th>\n",
       "      <th>attacker_size</th>\n",
       "      <th>defender_size</th>\n",
       "      <th>attacker_commander</th>\n",
       "      <th>defender_commander</th>\n",
       "      <th>summer</th>\n",
       "      <th>location</th>\n",
       "      <th>region</th>\n",
       "      <th>note</th>\n",
       "    </tr>\n",
       "  </thead>\n",
       "  <tbody>\n",
       "    <tr>\n",
       "      <th>0</th>\n",
       "      <td>Battle of the Golden Tooth</td>\n",
       "      <td>298</td>\n",
       "      <td>1</td>\n",
       "      <td>Joffrey/Tommen Baratheon</td>\n",
       "      <td>Robb Stark</td>\n",
       "      <td>Lannister</td>\n",
       "      <td>NaN</td>\n",
       "      <td>NaN</td>\n",
       "      <td>NaN</td>\n",
       "      <td>Tully</td>\n",
       "      <td>...</td>\n",
       "      <td>1.0</td>\n",
       "      <td>0.0</td>\n",
       "      <td>15000.0</td>\n",
       "      <td>4000.0</td>\n",
       "      <td>Jaime Lannister</td>\n",
       "      <td>Clement Piper, Vance</td>\n",
       "      <td>1.0</td>\n",
       "      <td>Golden Tooth</td>\n",
       "      <td>The Westerlands</td>\n",
       "      <td>NaN</td>\n",
       "    </tr>\n",
       "    <tr>\n",
       "      <th>1</th>\n",
       "      <td>Battle at the Mummer's Ford</td>\n",
       "      <td>298</td>\n",
       "      <td>2</td>\n",
       "      <td>Joffrey/Tommen Baratheon</td>\n",
       "      <td>Robb Stark</td>\n",
       "      <td>Lannister</td>\n",
       "      <td>NaN</td>\n",
       "      <td>NaN</td>\n",
       "      <td>NaN</td>\n",
       "      <td>Baratheon</td>\n",
       "      <td>...</td>\n",
       "      <td>1.0</td>\n",
       "      <td>0.0</td>\n",
       "      <td>NaN</td>\n",
       "      <td>120.0</td>\n",
       "      <td>Gregor Clegane</td>\n",
       "      <td>Beric Dondarrion</td>\n",
       "      <td>1.0</td>\n",
       "      <td>Mummer's Ford</td>\n",
       "      <td>The Riverlands</td>\n",
       "      <td>NaN</td>\n",
       "    </tr>\n",
       "    <tr>\n",
       "      <th>2</th>\n",
       "      <td>Battle of Riverrun</td>\n",
       "      <td>298</td>\n",
       "      <td>3</td>\n",
       "      <td>Joffrey/Tommen Baratheon</td>\n",
       "      <td>Robb Stark</td>\n",
       "      <td>Lannister</td>\n",
       "      <td>NaN</td>\n",
       "      <td>NaN</td>\n",
       "      <td>NaN</td>\n",
       "      <td>Tully</td>\n",
       "      <td>...</td>\n",
       "      <td>0.0</td>\n",
       "      <td>1.0</td>\n",
       "      <td>15000.0</td>\n",
       "      <td>10000.0</td>\n",
       "      <td>Jaime Lannister, Andros Brax</td>\n",
       "      <td>Edmure Tully, Tytos Blackwood</td>\n",
       "      <td>1.0</td>\n",
       "      <td>Riverrun</td>\n",
       "      <td>The Riverlands</td>\n",
       "      <td>NaN</td>\n",
       "    </tr>\n",
       "    <tr>\n",
       "      <th>3</th>\n",
       "      <td>Battle of the Green Fork</td>\n",
       "      <td>298</td>\n",
       "      <td>4</td>\n",
       "      <td>Robb Stark</td>\n",
       "      <td>Joffrey/Tommen Baratheon</td>\n",
       "      <td>Stark</td>\n",
       "      <td>NaN</td>\n",
       "      <td>NaN</td>\n",
       "      <td>NaN</td>\n",
       "      <td>Lannister</td>\n",
       "      <td>...</td>\n",
       "      <td>1.0</td>\n",
       "      <td>1.0</td>\n",
       "      <td>18000.0</td>\n",
       "      <td>20000.0</td>\n",
       "      <td>Roose Bolton, Wylis Manderly, Medger Cerwyn, H...</td>\n",
       "      <td>Tywin Lannister, Gregor Clegane, Kevan Lannist...</td>\n",
       "      <td>1.0</td>\n",
       "      <td>Green Fork</td>\n",
       "      <td>The Riverlands</td>\n",
       "      <td>NaN</td>\n",
       "    </tr>\n",
       "    <tr>\n",
       "      <th>4</th>\n",
       "      <td>Battle of the Whispering Wood</td>\n",
       "      <td>298</td>\n",
       "      <td>5</td>\n",
       "      <td>Robb Stark</td>\n",
       "      <td>Joffrey/Tommen Baratheon</td>\n",
       "      <td>Stark</td>\n",
       "      <td>Tully</td>\n",
       "      <td>NaN</td>\n",
       "      <td>NaN</td>\n",
       "      <td>Lannister</td>\n",
       "      <td>...</td>\n",
       "      <td>1.0</td>\n",
       "      <td>1.0</td>\n",
       "      <td>1875.0</td>\n",
       "      <td>6000.0</td>\n",
       "      <td>Robb Stark, Brynden Tully</td>\n",
       "      <td>Jaime Lannister</td>\n",
       "      <td>1.0</td>\n",
       "      <td>Whispering Wood</td>\n",
       "      <td>The Riverlands</td>\n",
       "      <td>NaN</td>\n",
       "    </tr>\n",
       "  </tbody>\n",
       "</table>\n",
       "<p>5 rows × 25 columns</p>\n",
       "</div>"
      ],
      "text/plain": [
       "                            name  year  battle_number  \\\n",
       "0     Battle of the Golden Tooth   298              1   \n",
       "1    Battle at the Mummer's Ford   298              2   \n",
       "2             Battle of Riverrun   298              3   \n",
       "3       Battle of the Green Fork   298              4   \n",
       "4  Battle of the Whispering Wood   298              5   \n",
       "\n",
       "              attacker_king             defender_king attacker_1 attacker_2  \\\n",
       "0  Joffrey/Tommen Baratheon                Robb Stark  Lannister        NaN   \n",
       "1  Joffrey/Tommen Baratheon                Robb Stark  Lannister        NaN   \n",
       "2  Joffrey/Tommen Baratheon                Robb Stark  Lannister        NaN   \n",
       "3                Robb Stark  Joffrey/Tommen Baratheon      Stark        NaN   \n",
       "4                Robb Stark  Joffrey/Tommen Baratheon      Stark      Tully   \n",
       "\n",
       "  attacker_3 attacker_4 defender_1  ... major_death  major_capture  \\\n",
       "0        NaN        NaN      Tully  ...         1.0            0.0   \n",
       "1        NaN        NaN  Baratheon  ...         1.0            0.0   \n",
       "2        NaN        NaN      Tully  ...         0.0            1.0   \n",
       "3        NaN        NaN  Lannister  ...         1.0            1.0   \n",
       "4        NaN        NaN  Lannister  ...         1.0            1.0   \n",
       "\n",
       "   attacker_size defender_size  \\\n",
       "0        15000.0        4000.0   \n",
       "1            NaN         120.0   \n",
       "2        15000.0       10000.0   \n",
       "3        18000.0       20000.0   \n",
       "4         1875.0        6000.0   \n",
       "\n",
       "                                  attacker_commander  \\\n",
       "0                                    Jaime Lannister   \n",
       "1                                     Gregor Clegane   \n",
       "2                       Jaime Lannister, Andros Brax   \n",
       "3  Roose Bolton, Wylis Manderly, Medger Cerwyn, H...   \n",
       "4                          Robb Stark, Brynden Tully   \n",
       "\n",
       "                                  defender_commander  summer         location  \\\n",
       "0                               Clement Piper, Vance     1.0     Golden Tooth   \n",
       "1                                   Beric Dondarrion     1.0    Mummer's Ford   \n",
       "2                      Edmure Tully, Tytos Blackwood     1.0         Riverrun   \n",
       "3  Tywin Lannister, Gregor Clegane, Kevan Lannist...     1.0       Green Fork   \n",
       "4                                    Jaime Lannister     1.0  Whispering Wood   \n",
       "\n",
       "            region note  \n",
       "0  The Westerlands  NaN  \n",
       "1   The Riverlands  NaN  \n",
       "2   The Riverlands  NaN  \n",
       "3   The Riverlands  NaN  \n",
       "4   The Riverlands  NaN  \n",
       "\n",
       "[5 rows x 25 columns]"
      ]
     },
     "execution_count": 64,
     "metadata": {},
     "output_type": "execute_result"
    }
   ],
   "source": [
    "battles = pd.read_csv('data/data-society-game-of-thrones/battles.csv')\n",
    "battles.head()\n",
    "# 전투이름, 공격 진영 왕 정보, 수비 진영 왕 정보,\n",
    "# 가문에 대한 정보(연합x면 234는 NaN값),\n",
    "# 주요 캐릭터 사망 및 포로 여부,\n",
    "# 공격/수비 진영 병사 숫자,\n",
    "# 전쟁 지역, 위치 등"
   ]
  },
  {
   "cell_type": "code",
   "execution_count": 66,
   "metadata": {},
   "outputs": [
    {
     "data": {
      "text/html": [
       "<div>\n",
       "<style scoped>\n",
       "    .dataframe tbody tr th:only-of-type {\n",
       "        vertical-align: middle;\n",
       "    }\n",
       "\n",
       "    .dataframe tbody tr th {\n",
       "        vertical-align: top;\n",
       "    }\n",
       "\n",
       "    .dataframe thead th {\n",
       "        text-align: right;\n",
       "    }\n",
       "</style>\n",
       "<table border=\"1\" class=\"dataframe\">\n",
       "  <thead>\n",
       "    <tr style=\"text-align: right;\">\n",
       "      <th></th>\n",
       "      <th>Name</th>\n",
       "      <th>Allegiances</th>\n",
       "      <th>Death Year</th>\n",
       "      <th>Book of Death</th>\n",
       "      <th>Death Chapter</th>\n",
       "      <th>Book Intro Chapter</th>\n",
       "      <th>Gender</th>\n",
       "      <th>Nobility</th>\n",
       "      <th>GoT</th>\n",
       "      <th>CoK</th>\n",
       "      <th>SoS</th>\n",
       "      <th>FfC</th>\n",
       "      <th>DwD</th>\n",
       "    </tr>\n",
       "  </thead>\n",
       "  <tbody>\n",
       "    <tr>\n",
       "      <th>0</th>\n",
       "      <td>Addam Marbrand</td>\n",
       "      <td>Lannister</td>\n",
       "      <td>NaN</td>\n",
       "      <td>NaN</td>\n",
       "      <td>NaN</td>\n",
       "      <td>56.0</td>\n",
       "      <td>1</td>\n",
       "      <td>1</td>\n",
       "      <td>1</td>\n",
       "      <td>1</td>\n",
       "      <td>1</td>\n",
       "      <td>1</td>\n",
       "      <td>0</td>\n",
       "    </tr>\n",
       "    <tr>\n",
       "      <th>1</th>\n",
       "      <td>Aegon Frey (Jinglebell)</td>\n",
       "      <td>None</td>\n",
       "      <td>299.0</td>\n",
       "      <td>3.0</td>\n",
       "      <td>51.0</td>\n",
       "      <td>49.0</td>\n",
       "      <td>1</td>\n",
       "      <td>1</td>\n",
       "      <td>0</td>\n",
       "      <td>0</td>\n",
       "      <td>1</td>\n",
       "      <td>0</td>\n",
       "      <td>0</td>\n",
       "    </tr>\n",
       "  </tbody>\n",
       "</table>\n",
       "</div>"
      ],
      "text/plain": [
       "                      Name Allegiances  Death Year  Book of Death  \\\n",
       "0           Addam Marbrand   Lannister         NaN            NaN   \n",
       "1  Aegon Frey (Jinglebell)        None       299.0            3.0   \n",
       "\n",
       "   Death Chapter  Book Intro Chapter  Gender  Nobility  GoT  CoK  SoS  FfC  \\\n",
       "0            NaN                56.0       1         1    1    1    1    1   \n",
       "1           51.0                49.0       1         1    0    0    1    0   \n",
       "\n",
       "   DwD  \n",
       "0    0  \n",
       "1    0  "
      ]
     },
     "execution_count": 66,
     "metadata": {},
     "output_type": "execute_result"
    }
   ],
   "source": [
    "death = pd.read_csv('data/data-society-game-of-thrones/character-deaths.csv')\n",
    "death.head(2)"
   ]
  },
  {
   "cell_type": "code",
   "execution_count": 69,
   "metadata": {},
   "outputs": [
    {
     "name": "stdout",
     "output_type": "stream",
     "text": [
      "<class 'pandas.core.frame.DataFrame'>\n",
      "RangeIndex: 917 entries, 0 to 916\n",
      "Data columns (total 13 columns):\n",
      " #   Column              Non-Null Count  Dtype  \n",
      "---  ------              --------------  -----  \n",
      " 0   Name                917 non-null    object \n",
      " 1   Allegiances         917 non-null    object \n",
      " 2   Death Year          305 non-null    float64\n",
      " 3   Book of Death       307 non-null    float64\n",
      " 4   Death Chapter       299 non-null    float64\n",
      " 5   Book Intro Chapter  905 non-null    float64\n",
      " 6   Gender              917 non-null    int64  \n",
      " 7   Nobility            917 non-null    int64  \n",
      " 8   GoT                 917 non-null    int64  \n",
      " 9   CoK                 917 non-null    int64  \n",
      " 10  SoS                 917 non-null    int64  \n",
      " 11  FfC                 917 non-null    int64  \n",
      " 12  DwD                 917 non-null    int64  \n",
      "dtypes: float64(4), int64(7), object(2)\n",
      "memory usage: 93.3+ KB\n"
     ]
    }
   ],
   "source": [
    "death.info()"
   ]
  },
  {
   "cell_type": "markdown",
   "metadata": {},
   "source": [
    "#### 2) 책의 권(Book of Death)별로 사망자 수 추이 시각화"
   ]
  },
  {
   "cell_type": "markdown",
   "metadata": {},
   "source": [
    "- 1) value_count() 함수 활용 (Series에서 제공)\n",
    "- 2) pivot_table() 그룹 집계 함수 사용\n",
    "> index: 집계 컬럼, \n",
    "> values: NaN이 없는 컬럼 (info() 통해서 확인 가능\n",
    "### <b style=\"color: red; background: rgba(255,255,0,0.7);\">NaN 값인 경우 카운트 수에서 배제되기 때문에 NaN없는 컬럼 이용</b>"
   ]
  },
  {
   "cell_type": "code",
   "execution_count": 77,
   "metadata": {
    "scrolled": true
   },
   "outputs": [
    {
     "data": {
      "image/png": "[encoded data removed]",
      "text/plain": [
       "<Figure size 500x300 with 1 Axes>"
      ]
     },
     "metadata": {},
     "output_type": "display_data"
    }
   ],
   "source": [
    "# 1) Series.value_counts()\n",
    "BookOfDeath = death['Book of Death'].value_counts().sort_index()\n",
    "ax = BookOfDeath.plot( figsize=(5,3), \n",
    "                      xticks=BookOfDeath.index, \n",
    "                      ylim=[0,120],\n",
    "                      title='권별 사망자수 추이')"
   ]
  },
  {
   "cell_type": "code",
   "execution_count": 82,
   "metadata": {},
   "outputs": [
    {
     "data": {
      "text/plain": [
       "Text(23.203125, 0.5, '사망자수')"
      ]
     },
     "execution_count": 82,
     "metadata": {},
     "output_type": "execute_result"
    }
   ],
   "source": [
    "# set_xlable, set_ylabel 은 Axes의 함수\n",
    "ax.set_xlabel('권')\n",
    "ax.set_ylabel('사망자수')"
   ]
  },
  {
   "cell_type": "code",
   "execution_count": 81,
   "metadata": {
    "scrolled": false
   },
   "outputs": [
    {
     "data": {
      "image/png": "[encoded data removed]",
      "text/plain": [
       "<Figure size 500x300 with 1 Axes>"
      ]
     },
     "execution_count": 81,
     "metadata": {},
     "output_type": "execute_result"
    }
   ],
   "source": [
    "ax.figure"
   ]
  },
  {
   "cell_type": "markdown",
   "metadata": {},
   "source": [
    "### <b style=\"color: red; background: rgba(255,255,0,0.7);\">axes와 figure에서 제공하는 함수가 각각 다르므로 차이를 잘 알고 있어야 함</b>"
   ]
  },
  {
   "cell_type": "code",
   "execution_count": 83,
   "metadata": {},
   "outputs": [],
   "source": [
    "# 그래프를 파일로 저장\n",
    "# ax.savefig('test.jpg') - 오류\n",
    "ax.figure.savefig('test.jpg')"
   ]
  },
  {
   "cell_type": "code",
   "execution_count": 70,
   "metadata": {},
   "outputs": [
    {
     "data": {
      "text/html": [
       "<div>\n",
       "<style scoped>\n",
       "    .dataframe tbody tr th:only-of-type {\n",
       "        vertical-align: middle;\n",
       "    }\n",
       "\n",
       "    .dataframe tbody tr th {\n",
       "        vertical-align: top;\n",
       "    }\n",
       "\n",
       "    .dataframe thead th {\n",
       "        text-align: right;\n",
       "    }\n",
       "</style>\n",
       "<table border=\"1\" class=\"dataframe\">\n",
       "  <thead>\n",
       "    <tr style=\"text-align: right;\">\n",
       "      <th></th>\n",
       "      <th>Name</th>\n",
       "    </tr>\n",
       "    <tr>\n",
       "      <th>Book of Death</th>\n",
       "      <th></th>\n",
       "    </tr>\n",
       "  </thead>\n",
       "  <tbody>\n",
       "    <tr>\n",
       "      <th>1.0</th>\n",
       "      <td>49</td>\n",
       "    </tr>\n",
       "    <tr>\n",
       "      <th>2.0</th>\n",
       "      <td>73</td>\n",
       "    </tr>\n",
       "    <tr>\n",
       "      <th>3.0</th>\n",
       "      <td>97</td>\n",
       "    </tr>\n",
       "    <tr>\n",
       "      <th>4.0</th>\n",
       "      <td>27</td>\n",
       "    </tr>\n",
       "    <tr>\n",
       "      <th>5.0</th>\n",
       "      <td>61</td>\n",
       "    </tr>\n",
       "  </tbody>\n",
       "</table>\n",
       "</div>"
      ],
      "text/plain": [
       "               Name\n",
       "Book of Death      \n",
       "1.0              49\n",
       "2.0              73\n",
       "3.0              97\n",
       "4.0              27\n",
       "5.0              61"
      ]
     },
     "execution_count": 70,
     "metadata": {},
     "output_type": "execute_result"
    }
   ],
   "source": [
    "# 2) pivot_table()\n",
    "death.pivot_table(index='Book of Death', values='Name', aggfunc='count')"
   ]
  },
  {
   "cell_type": "markdown",
   "metadata": {},
   "source": [
    "#### 3) 대규모 전투의  공격진영과 수비 진영의 숫자 시각화\n",
    "대규모 전투 = 공격과 수비 모두 합쳐서 10,000명 이상 참가한 전쟁"
   ]
  },
  {
   "cell_type": "code",
   "execution_count": 85,
   "metadata": {},
   "outputs": [],
   "source": [
    "# 1) 대규모 전투만 선택\n",
    "big_battles = battles[battles.attacker_size + battles.defender_size >= 10000]"
   ]
  },
  {
   "cell_type": "code",
   "execution_count": 87,
   "metadata": {},
   "outputs": [],
   "source": [
    "# 2) 필요한 컬럼만 선택\n",
    "big_battles = big_battles[['name', 'attacker_size', 'defender_size']]"
   ]
  },
  {
   "cell_type": "code",
   "execution_count": 92,
   "metadata": {},
   "outputs": [
    {
     "data": {
      "text/plain": [
       "<AxesSubplot:ylabel='name'>"
      ]
     },
     "execution_count": 92,
     "metadata": {},
     "output_type": "execute_result"
    },
    {
     "data": {
      "image/png": "[encoded data removed]",
      "text/plain": [
       "<Figure size 640x480 with 1 Axes>"
      ]
     },
     "metadata": {},
     "output_type": "display_data"
    }
   ],
   "source": [
    "# 3) 시각화\n",
    "big_battles.plot(kind='barh',\n",
    "                x='name',\n",
    "                stacked=True)"
   ]
  },
  {
   "cell_type": "markdown",
   "metadata": {},
   "source": [
    "#### 4) (실습 #1) 가문 별로 전쟁을 참여한 횟수 시각화"
   ]
  },
  {
   "cell_type": "code",
   "execution_count": 98,
   "metadata": {},
   "outputs": [],
   "source": [
    "# 1) 필요한 컬럼만 선택\n",
    "# attacker_1 ~ defender_4 총 8개 선택\n",
    "\n",
    "## (1) 모두 나열 방식\n",
    "battles[['attacker_1','attacker_2','attacker_3','attacker_4','defender_1','defender_2','defender_3','defender_4']]\n",
    "## (2) 슬라이싱 방식\n",
    "battles.loc[:, 'attacker_1':'defender_4']\n",
    "## (3) 슬라이싱 방식 2\n",
    "battles[battles.columns[5:13]]\n",
    "## (4) 정규 표현식 사용 - 특정 패턴 가진 컬럼, 연속되어있지 않더라도 사용 가능\n",
    "battle_house = battles.filter(regex = 'attacker_[1-4]|defender_[1-4]')"
   ]
  },
  {
   "cell_type": "code",
   "execution_count": 101,
   "metadata": {
    "collapsed": true
   },
   "outputs": [
    {
     "data": {
      "text/plain": [
       "Baratheon                      6.0\n",
       "Bolton                         3.0\n",
       "Bracken                        1.0\n",
       "Brave Companions               1.0\n",
       "Brotherhood without Banners    1.0\n",
       "Darry                          1.0\n",
       "Free folk                      1.0\n",
       "Frey                           3.0\n",
       "Greyjoy                        8.0\n",
       "Karstark                       2.0\n",
       "Lannister                      9.0\n",
       "Stark                          8.0\n",
       "Thenns                         1.0\n",
       "Tully                          3.0\n",
       "dtype: float64"
      ]
     },
     "execution_count": 101,
     "metadata": {},
     "output_type": "execute_result"
    }
   ],
   "source": [
    "# 각 가문들이 출연한 횟수를 집계\n",
    "# + 사용: 둘 중 하나라도 없으면 NaN값으로 표시됨\n",
    "battle_house.attacker_1.value_counts().add(\n",
    "battle_house.attacker_2.value_counts() , fill_value=0)"
   ]
  },
  {
   "cell_type": "code",
   "execution_count": 104,
   "metadata": {
    "collapsed": true
   },
   "outputs": [
    {
     "data": {
      "text/plain": [
       "Baratheon                      11.0\n",
       "Blackwood                       1.0\n",
       "Bolton                          4.0\n",
       "Bracken                         1.0\n",
       "Brave Companions                3.0\n",
       "Brotherhood without Banners     1.0\n",
       "Darry                           2.0\n",
       "Free folk                       1.0\n",
       "Frey                            4.0\n",
       "Giants                          1.0\n",
       "Glover                          2.0\n",
       "Greyjoy                        11.0\n",
       "Karstark                        2.0\n",
       "Lannister                      18.0\n",
       "Mallister                       1.0\n",
       "Mormont                         2.0\n",
       "Night's Watch                   1.0\n",
       "Stark                          16.0\n",
       "Thenns                          1.0\n",
       "Tully                           7.0\n",
       "Tyrell                          2.0\n",
       "dtype: float64"
      ]
     },
     "execution_count": 104,
     "metadata": {},
     "output_type": "execute_result"
    }
   ],
   "source": [
    "house_to_battle_count = Series(dtype='float64')\n",
    "for col in battle_house.columns:\n",
    "    house_to_battle_count = house_to_battle_count.add(\n",
    "                        battle_house[col].value_counts(),\n",
    "                        fill_value=0)\n",
    "house_to_battle_count"
   ]
  },
  {
   "cell_type": "code",
   "execution_count": 107,
   "metadata": {},
   "outputs": [
    {
     "data": {
      "text/plain": [
       "<AxesSubplot:>"
      ]
     },
     "execution_count": 107,
     "metadata": {},
     "output_type": "execute_result"
    },
    {
     "data": {
      "image/png": "[encoded data removed]",
      "text/plain": [
       "<Figure size 640x480 with 1 Axes>"
      ]
     },
     "metadata": {},
     "output_type": "display_data"
    }
   ],
   "source": [
    "house_to_battle_count.sort_values().plot(kind='barh')"
   ]
  },
  {
   "cell_type": "markdown",
   "metadata": {},
   "source": [
    "#### 5) (실습 #2) 년도별로 사망자의 숫자와 전쟁이 벌어진 횟수 시각화"
   ]
  },
  {
   "cell_type": "code",
   "execution_count": 110,
   "metadata": {},
   "outputs": [],
   "source": [
    "# 1) 년도별 사망자수 구하기\n",
    "death_for_year = death['Death Year'].value_counts().sort_index()"
   ]
  },
  {
   "cell_type": "code",
   "execution_count": 112,
   "metadata": {
    "collapsed": true
   },
   "outputs": [
    {
     "name": "stdout",
     "output_type": "stream",
     "text": [
      "<class 'pandas.core.frame.DataFrame'>\n",
      "RangeIndex: 38 entries, 0 to 37\n",
      "Data columns (total 25 columns):\n",
      " #   Column              Non-Null Count  Dtype  \n",
      "---  ------              --------------  -----  \n",
      " 0   name                38 non-null     object \n",
      " 1   year                38 non-null     int64  \n",
      " 2   battle_number       38 non-null     int64  \n",
      " 3   attacker_king       36 non-null     object \n",
      " 4   defender_king       35 non-null     object \n",
      " 5   attacker_1          38 non-null     object \n",
      " 6   attacker_2          10 non-null     object \n",
      " 7   attacker_3          3 non-null      object \n",
      " 8   attacker_4          2 non-null      object \n",
      " 9   defender_1          37 non-null     object \n",
      " 10  defender_2          2 non-null      object \n",
      " 11  defender_3          0 non-null      float64\n",
      " 12  defender_4          0 non-null      float64\n",
      " 13  attacker_outcome    37 non-null     object \n",
      " 14  battle_type         37 non-null     object \n",
      " 15  major_death         37 non-null     float64\n",
      " 16  major_capture       37 non-null     float64\n",
      " 17  attacker_size       24 non-null     float64\n",
      " 18  defender_size       19 non-null     float64\n",
      " 19  attacker_commander  37 non-null     object \n",
      " 20  defender_commander  28 non-null     object \n",
      " 21  summer              37 non-null     float64\n",
      " 22  location            37 non-null     object \n",
      " 23  region              38 non-null     object \n",
      " 24  note                5 non-null      object \n",
      "dtypes: float64(7), int64(2), object(16)\n",
      "memory usage: 7.5+ KB\n"
     ]
    }
   ],
   "source": [
    "battles.info()"
   ]
  },
  {
   "cell_type": "markdown",
   "metadata": {},
   "source": [
    "### <b style=\"color: red; background: rgba(255,255,0,0.7);\">피벗 테이블 장단점</b>\n",
    "- 장점: 자동으로 정렬되어 출력\n",
    "- 단점: values의 null 값이 없는 컬럼을 찾아야 됨"
   ]
  },
  {
   "cell_type": "code",
   "execution_count": 114,
   "metadata": {},
   "outputs": [],
   "source": [
    "# 2) 년도별 전쟁횟수 구하기\n",
    "# battles.year.value_counts() 와 동일\n",
    "battle_for_year = battles.pivot_table(index='year', \n",
    "                                      aggfunc='count', \n",
    "                                      values='name')"
   ]
  },
  {
   "cell_type": "code",
   "execution_count": 115,
   "metadata": {},
   "outputs": [
    {
     "data": {
      "text/plain": [
       "297.0      3\n",
       "298.0     46\n",
       "299.0    156\n",
       "300.0    100\n",
       "Name: Death Year, dtype: int64"
      ]
     },
     "execution_count": 115,
     "metadata": {},
     "output_type": "execute_result"
    }
   ],
   "source": [
    "death_for_year"
   ]
  },
  {
   "cell_type": "code",
   "execution_count": 116,
   "metadata": {},
   "outputs": [
    {
     "data": {
      "text/html": [
       "<div>\n",
       "<style scoped>\n",
       "    .dataframe tbody tr th:only-of-type {\n",
       "        vertical-align: middle;\n",
       "    }\n",
       "\n",
       "    .dataframe tbody tr th {\n",
       "        vertical-align: top;\n",
       "    }\n",
       "\n",
       "    .dataframe thead th {\n",
       "        text-align: right;\n",
       "    }\n",
       "</style>\n",
       "<table border=\"1\" class=\"dataframe\">\n",
       "  <thead>\n",
       "    <tr style=\"text-align: right;\">\n",
       "      <th></th>\n",
       "      <th>name</th>\n",
       "    </tr>\n",
       "    <tr>\n",
       "      <th>year</th>\n",
       "      <th></th>\n",
       "    </tr>\n",
       "  </thead>\n",
       "  <tbody>\n",
       "    <tr>\n",
       "      <th>298</th>\n",
       "      <td>7</td>\n",
       "    </tr>\n",
       "    <tr>\n",
       "      <th>299</th>\n",
       "      <td>20</td>\n",
       "    </tr>\n",
       "    <tr>\n",
       "      <th>300</th>\n",
       "      <td>11</td>\n",
       "    </tr>\n",
       "  </tbody>\n",
       "</table>\n",
       "</div>"
      ],
      "text/plain": [
       "      name\n",
       "year      \n",
       "298      7\n",
       "299     20\n",
       "300     11"
      ]
     },
     "execution_count": 116,
     "metadata": {},
     "output_type": "execute_result"
    }
   ],
   "source": [
    "battle_for_year"
   ]
  },
  {
   "cell_type": "code",
   "execution_count": 124,
   "metadata": {},
   "outputs": [
    {
     "data": {
      "text/html": [
       "<div>\n",
       "<style scoped>\n",
       "    .dataframe tbody tr th:only-of-type {\n",
       "        vertical-align: middle;\n",
       "    }\n",
       "\n",
       "    .dataframe tbody tr th {\n",
       "        vertical-align: top;\n",
       "    }\n",
       "\n",
       "    .dataframe thead th {\n",
       "        text-align: right;\n",
       "    }\n",
       "</style>\n",
       "<table border=\"1\" class=\"dataframe\">\n",
       "  <thead>\n",
       "    <tr style=\"text-align: right;\">\n",
       "      <th></th>\n",
       "      <th># of death</th>\n",
       "      <th># of battles</th>\n",
       "    </tr>\n",
       "  </thead>\n",
       "  <tbody>\n",
       "    <tr>\n",
       "      <th>297.0</th>\n",
       "      <td>3</td>\n",
       "      <td>0.0</td>\n",
       "    </tr>\n",
       "    <tr>\n",
       "      <th>298.0</th>\n",
       "      <td>46</td>\n",
       "      <td>7.0</td>\n",
       "    </tr>\n",
       "    <tr>\n",
       "      <th>299.0</th>\n",
       "      <td>156</td>\n",
       "      <td>20.0</td>\n",
       "    </tr>\n",
       "    <tr>\n",
       "      <th>300.0</th>\n",
       "      <td>100</td>\n",
       "      <td>11.0</td>\n",
       "    </tr>\n",
       "  </tbody>\n",
       "</table>\n",
       "</div>"
      ],
      "text/plain": [
       "       # of death  # of battles\n",
       "297.0           3           0.0\n",
       "298.0          46           7.0\n",
       "299.0         156          20.0\n",
       "300.0         100          11.0"
      ]
     },
     "execution_count": 124,
     "metadata": {},
     "output_type": "execute_result"
    }
   ],
   "source": [
    "# 두 분석결과를 하나의 데이터프레임으로 합치기\n",
    "data = pd.concat([death_for_year, battle_for_year], axis=1)\n",
    "data.columns = ['# of death', '# of battles']\n",
    "data.fillna(0, inplace=True)\n",
    "data"
   ]
  },
  {
   "cell_type": "code",
   "execution_count": 127,
   "metadata": {},
   "outputs": [
    {
     "data": {
      "text/plain": [
       "<AxesSubplot:title={'center':'년도별 사망자와 전쟁횟수 추이'}, xlabel='년도', ylabel='횟수'>"
      ]
     },
     "execution_count": 127,
     "metadata": {},
     "output_type": "execute_result"
    },
    {
     "data": {
      "image/png": "[encoded data removed]",
      "text/plain": [
       "<Figure size 500x300 with 1 Axes>"
      ]
     },
     "metadata": {},
     "output_type": "display_data"
    }
   ],
   "source": [
    "data.plot(figsize=(5,3),\n",
    "         title='년도별 사망자와 전쟁횟수 추이',\n",
    "         xticks=data.index,\n",
    "         xlabel='년도',\n",
    "         ylabel='횟수')"
   ]
  },
  {
   "cell_type": "code",
   "execution_count": 128,
   "metadata": {},
   "outputs": [
    {
     "data": {
      "text/html": [
       "<div>\n",
       "<style scoped>\n",
       "    .dataframe tbody tr th:only-of-type {\n",
       "        vertical-align: middle;\n",
       "    }\n",
       "\n",
       "    .dataframe tbody tr th {\n",
       "        vertical-align: top;\n",
       "    }\n",
       "\n",
       "    .dataframe thead th {\n",
       "        text-align: right;\n",
       "    }\n",
       "</style>\n",
       "<table border=\"1\" class=\"dataframe\">\n",
       "  <thead>\n",
       "    <tr style=\"text-align: right;\">\n",
       "      <th></th>\n",
       "      <th># of death</th>\n",
       "      <th># of battles</th>\n",
       "    </tr>\n",
       "  </thead>\n",
       "  <tbody>\n",
       "    <tr>\n",
       "      <th># of death</th>\n",
       "      <td>1.00000</td>\n",
       "      <td>0.98991</td>\n",
       "    </tr>\n",
       "    <tr>\n",
       "      <th># of battles</th>\n",
       "      <td>0.98991</td>\n",
       "      <td>1.00000</td>\n",
       "    </tr>\n",
       "  </tbody>\n",
       "</table>\n",
       "</div>"
      ],
      "text/plain": [
       "              # of death  # of battles\n",
       "# of death       1.00000       0.98991\n",
       "# of battles     0.98991       1.00000"
      ]
     },
     "execution_count": 128,
     "metadata": {},
     "output_type": "execute_result"
    }
   ],
   "source": [
    "# 연도별 전쟁 횟수와 사망자 수의 상관관계 분석\n",
    "# 값이 1에 가까울수록 상관관계 높음\n",
    "data.corr()"
   ]
  }
 ],
 "metadata": {
  "kernelspec": {
   "display_name": "Python 3",
   "language": "python",
   "name": "python3"
  },
  "language_info": {
   "codemirror_mode": {
    "name": "ipython",
    "version": 3
   },
   "file_extension": ".py",
   "mimetype": "text/x-python",
   "name": "python",
   "nbconvert_exporter": "python",
   "pygments_lexer": "ipython3",
   "version": "3.8.5"
  },
  "toc": {
   "base_numbering": 1,
   "nav_menu": {},
   "number_sections": true,
   "sideBar": true,
   "skip_h1_title": false,
   "title_cell": "Table of Contents",
   "title_sidebar": "Contents",
   "toc_cell": false,
   "toc_position": {},
   "toc_section_display": true,
   "toc_window_display": false
  }
 },
 "nbformat": 4,
 "nbformat_minor": 2
}
